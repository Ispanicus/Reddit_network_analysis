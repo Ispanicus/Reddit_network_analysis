{
 "cells": [
  {
   "cell_type": "code",
   "execution_count": 31,
   "metadata": {},
   "outputs": [],
   "source": [
    "import pandas as pd\n",
    "import networkx as nx\n",
    "import itertools\n",
    "import random"
   ]
  },
  {
   "cell_type": "code",
   "execution_count": 47,
   "metadata": {},
   "outputs": [],
   "source": [
    "G_reddit = pd.read_csv('reddit.tsv', delimiter=\"\\t\")\n",
    "G_reddit = G_reddit.sort_values('TIMESTAMP')\n",
    "G_reddit = G_reddit.drop(labels=[\"POST_ID\",\"TIMESTAMP\",\"PROPERTIES\"], axis=1)\n",
    "# G_reddit = G_reddit.groupby(by=[\"SOURCE_SUBREDDIT\",\"TARGET_SUBREDDIT\"]).sum()\n",
    "train = G_reddit.iloc[:1000]\n",
    "test  = G_reddit.iloc[1000:]\n",
    "train.to_csv('train.csv')\n",
    "test.to_csv('test.csv')"
   ]
  },
  {
   "cell_type": "code",
   "execution_count": 48,
   "metadata": {},
   "outputs": [],
   "source": [
    "G_train = nx.convert_matrix.from_pandas_edgelist(train, source=\"SOURCE_SUBREDDIT\", target=\"TARGET_SUBREDDIT\", edge_attr=\"LINK_SENTIMENT\")\n",
    "G_test = nx.convert_matrix.from_pandas_edgelist(test, source=\"SOURCE_SUBREDDIT\", target=\"TARGET_SUBREDDIT\", edge_attr=\"LINK_SENTIMENT\")\n",
    "test_set1 = set(G_test.edges)\n",
    "test_set2 = set([(pair[1], pair[0]) for pair in test_set1])\n",
    "test_set = test_set1 | test_set2"
   ]
  },
  {
   "cell_type": "code",
   "execution_count": null,
   "metadata": {},
   "outputs": [],
   "source": [
    "# df_train = pd.read_csv('train.csv')\n",
    "# df_test = pd.read_csv('test.csv')\n",
    "# G_train = nx.convert_matrix.from_pandas_edgelist(df_train, source=\"SOURCE_SUBREDDIT\", target=\"TARGET_SUBREDDIT\", edge_attr=\"LINK_SENTIMENT\")\n",
    "# G_test = nx.convert_matrix.from_pandas_edgelist(df_test, source=\"SOURCE_SUBREDDIT\", target=\"TARGET_SUBREDDIT\", edge_attr=\"LINK_SENTIMENT\")\n",
    "# test_set = set(G_test.edges)"
   ]
  },
  {
   "cell_type": "code",
   "execution_count": 38,
   "metadata": {},
   "outputs": [],
   "source": [
    "def common_neighbor(G, size):\n",
    "    all_node_pairs = set(itertools.product(G.nodes, repeat = 2))\n",
    "    all_unconnected_node_pairs = all_node_pairs - set(G.edges)\n",
    "    score = {}\n",
    "    for node_pair in all_unconnected_node_pairs:\n",
    "        if node_pair[0] != node_pair[1]:\n",
    "            score[node_pair] = len(set(G.neighbors(node_pair[0])) & set(G.neighbors(node_pair[1])))\n",
    "    sorted_guesses = sorted(score.items(), key = lambda x: x[1], reverse = True)\n",
    "    sorted_best_guesses = sorted_guesses[:size]\n",
    "    guesses = set([guess[0] for guess in sorted_best_guesses])\n",
    "    reverse = set([(guess[0][1],guess[0][0]) for guess in sorted_best_guesses])\n",
    "    return guesses | reverse\n",
    "\n",
    "def jaccard(G, size):\n",
    "    all_node_pairs = set(itertools.product(G.nodes, repeat = 2))\n",
    "    all_unconnected_node_pairs = all_node_pairs - set(G.edges)\n",
    "    j = list(nx.jaccard_coefficient(G_train, ebunch=all_unconnected_node_pairs))\n",
    "    score = {}\n",
    "    for node_pair in j:\n",
    "        if node_pair[0] != node_pair[1]:\n",
    "            score[(node_pair[0],node_pair[1])] = node_pair[2]\n",
    "    sorted_guesses = sorted(score.items(), key = lambda x: x[1], reverse = True)\n",
    "    sorted_best_guesses = sorted_guesses[:size]\n",
    "    guesses = set([guess[0] for guess in sorted_best_guesses])\n",
    "    reverse = set([(guess[0][1],guess[0][0]) for guess in sorted_best_guesses])\n",
    "    return guesses | reverse\n",
    "\n",
    "def pa(G, size):\n",
    "    all_node_pairs = set(itertools.product(G.nodes, repeat = 2))\n",
    "    all_unconnected_node_pairs = all_node_pairs - set(G.edges)\n",
    "    pa = list(nx.preferential_attachment(G_train, ebunch=all_unconnected_node_pairs))\n",
    "    score = {}\n",
    "    for node_pair in pa:\n",
    "        if node_pair[0] != node_pair[1]:\n",
    "            score[(node_pair[0],node_pair[1])] = node_pair[2]\n",
    "    sorted_guesses = sorted(score.items(), key = lambda x: x[1], reverse = True)\n",
    "    sorted_best_guesses = sorted_guesses[:size]\n",
    "    guesses = set([guess[0] for guess in sorted_best_guesses])\n",
    "    reverse = set([(guess[0][1],guess[0][0]) for guess in sorted_best_guesses])\n",
    "    return guesses | reverse\n",
    "\n",
    "def rai(G, size):\n",
    "    all_node_pairs = set(itertools.product(G.nodes, repeat = 2))\n",
    "    all_unconnected_node_pairs = all_node_pairs - set(G.edges)\n",
    "    rai = list(nx.resource_allocation_index(G_train, ebunch=all_unconnected_node_pairs))\n",
    "    score = {}\n",
    "    for node_pair in rai:\n",
    "        if node_pair[0] != node_pair[1]:\n",
    "            score[(node_pair[0],node_pair[1])] = node_pair[2]\n",
    "    sorted_guesses = sorted(score.items(), key = lambda x: x[1], reverse = True)\n",
    "    sorted_best_guesses = sorted_guesses[:size*2:2]\n",
    "    guesses = set([guess[0] for guess in sorted_best_guesses])\n",
    "    reverse = set([(guess[0][1],guess[0][0]) for guess in sorted_best_guesses])\n",
    "    return guesses | reverse\n",
    "\n",
    "def aai(G, size):\n",
    "    all_node_pairs = set(itertools.product(G.nodes, repeat = 2))\n",
    "    all_unconnected_node_pairs = all_node_pairs - set(G.edges)\n",
    "    aai = list(nx.adamic_adar_index(G_train, ebunch=all_unconnected_node_pairs))\n",
    "    score = {}\n",
    "    for node_pair in aai:\n",
    "        if node_pair[0] != node_pair[1]:\n",
    "            score[(node_pair[0],node_pair[1])] = node_pair[2]\n",
    "    sorted_guesses = sorted(score.items(), key = lambda x: x[1], reverse = True)\n",
    "    sorted_best_guesses = sorted_guesses[:size]\n",
    "    guesses = set([guess[0] for guess in sorted_best_guesses])\n",
    "    reverse = set([(guess[0][1],guess[0][0]) for guess in sorted_best_guesses])\n",
    "    return guesses | reverse\n",
    "\n",
    "def random_guess(G, size):\n",
    "    all_node_pairs = set(itertools.product(G.nodes, repeat = 2))\n",
    "    all_unconnected_node_pairs = all_node_pairs - set(G.edges)\n",
    "    return set(random.sample(all_unconnected_node_pairs, size))"
   ]
  },
  {
   "cell_type": "code",
   "execution_count": 17,
   "metadata": {},
   "outputs": [],
   "source": [
    "def score(G, func, size):\n",
    "    guesses = func(G, size)\n",
    "    precision = len(guesses & test_set) / len(guesses)\n",
    "    recall = len(guesses & test_set) / len(test_set)\n",
    "    return (precision, recall)"
   ]
  },
  {
   "cell_type": "code",
   "execution_count": 50,
   "metadata": {},
   "outputs": [
    {
     "name": "stdout",
     "output_type": "stream",
     "text": [
      "common neighbor (0.8, 0.00023648402823255474)\n",
      "jaccard (0.05102040816326531, 2.273884886851488e-05)\n",
      "preferential attachment (0.8333333333333334, 0.0002273884886851488)\n",
      "resource allocation index (0.6483516483516484, 0.00026831841664847557)\n",
      "random guess (0.01, 2.273884886851488e-06)\n"
     ]
    }
   ],
   "source": [
    "funcs = [common_neighbor, jaccard, pa, rai, random_guess]\n",
    "func_labels = ['common neighbor', 'jaccard', 'preferential attachment', 'resource allocation index', 'random guess']\n",
    "for label,func in zip(func_labels, funcs):\n",
    "    print(label, score(G_train, func, 100))"
   ]
  }
 ],
 "metadata": {
  "kernelspec": {
   "display_name": "Python 3",
   "language": "python",
   "name": "python3"
  },
  "language_info": {
   "codemirror_mode": {
    "name": "ipython",
    "version": 3
   },
   "file_extension": ".py",
   "mimetype": "text/x-python",
   "name": "python",
   "nbconvert_exporter": "python",
   "pygments_lexer": "ipython3",
   "version": "3.6.5"
  }
 },
 "nbformat": 4,
 "nbformat_minor": 2
}
