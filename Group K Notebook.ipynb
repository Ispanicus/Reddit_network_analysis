{
 "cells": [
  {
   "cell_type": "markdown",
   "metadata": {},
   "source": [
    "# Network Analysis Project - Group K"
   ]
  },
  {
   "cell_type": "markdown",
   "metadata": {},
   "source": [
    "# Research question:\n",
    "\n",
    "#### How do different subreddit themes affect the underlying community structures in the Reddit hyperlink network?"
   ]
  },
  {
   "cell_type": "markdown",
   "metadata": {},
   "source": [
    "### Network explanation:\n",
    "\n",
    "#### Reddit is a forum-like website with many different small forums called subreddits. Users can post content on these subreddits and other users can comment on the content. In the network we are analysing, the nodes are sudreddits and the edges are hyperlinks from comments made by the users from one subreddit to another. So, a usercomment on a post on subreddit *a* with a hyperlink to subreddit *b* correlates to an edge from node *a* to node *b* in the network. Each comment is given a weight of either -1 or +1, that represent if the text in the comment is positve or negative. If the comment is neutral the weight is also 1. The text analysis is done by SNAP at Stanford University."
   ]
  },
  {
   "cell_type": "code",
   "execution_count": 108,
   "metadata": {},
   "outputs": [],
   "source": [
    "import community as cd\n",
    "from collections import Counter, defaultdict\n",
    "import igraph as ig\n",
    "import itertools\n",
    "import networkx as nx\n",
    "import numpy as np\n",
    "import matplotlib\n",
    "import matplotlib.pyplot as plt\n",
    "matplotlib.rcParams['figure.figsize'] = (15.0, 5.0)\n",
    "matplotlib.rcParams.update({'font.size': 18})\n",
    "plt.style.use('ggplot')\n",
    "from operator import itemgetter\n",
    "import pandas as pd\n",
    "import powerlaw\n",
    "import random\n",
    "import seaborn as sns\n",
    "import warnings\n",
    "\n",
    "# Ignore two specific warning messages from the powerlaw package. \n",
    "# Comment these lines to show warnings\n",
    "warnings.filterwarnings(\"ignore\", message=\"invalid value encountered in true_divide\")\n",
    "warnings.filterwarnings(\"ignore\", message=\"divide by zero encountered in true_divide\")"
   ]
  },
  {
   "cell_type": "markdown",
   "metadata": {},
   "source": [
    "## Data cleaning"
   ]
  },
  {
   "cell_type": "code",
   "execution_count": 109,
   "metadata": {},
   "outputs": [],
   "source": [
    "# Loading the data in and removing unused columns\n",
    "# reddit.tsv downloaded from https://snap.stanford.edu/data/soc-redditHyperlinks-body.tsv\n",
    "G_reddit = pd.read_csv('reddit.tsv', delimiter=\"\\t\")\n",
    "temp = G_reddit.drop(labels=[\"POST_ID\",\"TIMESTAMP\",\"PROPERTIES\"], axis=1)\n",
    "new = temp.groupby(by=[\"SOURCE_SUBREDDIT\",\"TARGET_SUBREDDIT\"]).sum()\n",
    "new.to_csv(\"dataframe.csv\")\n",
    "\n",
    "# Setting edge weights to either positive or negative, according to whether there are mostly positive or mostly negative links\n",
    "df = pd.read_csv('dataframe.csv')\n",
    "df = df[df.LINK_SENTIMENT != 0]\n",
    "df.loc[df.LINK_SENTIMENT > 0, 'LINK_SENTIMENT'] = 1\n",
    "df.loc[df.LINK_SENTIMENT < 0, 'LINK_SENTIMENT'] = -1\n",
    "df.to_csv(\"clean_graph.csv\")"
   ]
  },
  {
   "cell_type": "code",
   "execution_count": 110,
   "metadata": {},
   "outputs": [],
   "source": [
    "# Read network as directed graph from edge list\n",
    "G_reddit = pd.read_csv('clean_graph.csv', delimiter=\",\")\n",
    "G = nx.convert_matrix.from_pandas_edgelist(G_reddit, source=\"SOURCE_SUBREDDIT\", target=\"TARGET_SUBREDDIT\", edge_attr=\"LINK_SENTIMENT\", create_using=nx.DiGraph)\n",
    "\n",
    "# Smaller sized slice of network for tests\n",
    "#G_2014 = pd.read_csv('2014.csv', delimiter=\",\")\n",
    "#G_2014 = nx.convert_matrix.from_pandas_edgelist(G_2014, source=\"SOURCE_SUBREDDIT\", target=\"TARGET_SUBREDDIT\", edge_attr=\"LINK_SENTIMENT\", create_using=nx.DiGraph)"
   ]
  },
  {
   "cell_type": "code",
   "execution_count": 111,
   "metadata": {},
   "outputs": [],
   "source": [
    "# Separating the positive and negative parts of the network for analysis\n",
    "DF_POS = G_reddit[G_reddit.LINK_SENTIMENT == 1]\n",
    "DF_NEG = G_reddit[G_reddit.LINK_SENTIMENT == -1]\n",
    "G_POS = nx.convert_matrix.from_pandas_edgelist(DF_POS, source=\"SOURCE_SUBREDDIT\", target=\"TARGET_SUBREDDIT\", edge_attr=\"LINK_SENTIMENT\", create_using=nx.DiGraph)\n",
    "G_NEG = nx.convert_matrix.from_pandas_edgelist(DF_NEG, source=\"SOURCE_SUBREDDIT\", target=\"TARGET_SUBREDDIT\", edge_attr=\"LINK_SENTIMENT\", create_using=nx.DiGraph)"
   ]
  },
  {
   "cell_type": "markdown",
   "metadata": {},
   "source": [
    "### Summary of the network"
   ]
  },
  {
   "cell_type": "code",
   "execution_count": 112,
   "metadata": {},
   "outputs": [
    {
     "name": "stdout",
     "output_type": "stream",
     "text": [
      "Name: \n",
      "Type: DiGraph\n",
      "Number of nodes: 35699\n",
      "Number of edges: 135707\n",
      "Average in degree:   3.8014\n",
      "Average out degree:   3.8014\n"
     ]
    }
   ],
   "source": [
    "print(nx.info(G))"
   ]
  },
  {
   "cell_type": "markdown",
   "metadata": {},
   "source": [
    "#### As we can see, our network is sparse, since there are around 4 edges per node.\n",
    "#### Note that the in-degree and out-degree are the same. For a node to have an out-link, another node has to necessarily get an in-link."
   ]
  },
  {
   "cell_type": "markdown",
   "metadata": {},
   "source": [
    "## Constructing a null model for comparison\n",
    "### We create a configuration model to see if the number of connected components depends on the degree distribution or some other property of our network."
   ]
  },
  {
   "cell_type": "code",
   "execution_count": 113,
   "metadata": {},
   "outputs": [],
   "source": [
    "def plot_component_distributions(G_original, G_configuration, title, \n",
    "                                 component_method=nx.connected_components):\n",
    "    \"\"\"\n",
    "    Visualizes component size distributions for a network and its configuration \n",
    "    network counterpart. Does not use binning.\n",
    "        @G_original (NetworkX Graph): Original network\n",
    "        @G_configuration (NetworkX Graph): Configuration network\n",
    "        @title (str): Plot title\n",
    "        @component_method: NetworkX method to extract components, e.g. nx.connected_components\n",
    "    \"\"\"\n",
    "\n",
    "\n",
    "    # get number of nodes for normalization\n",
    "    num_nodes = nx.number_of_nodes(G_original)\n",
    "    \n",
    "    # count distinct values using Counter. Normalize component sizes by number of nodes\n",
    "    cnt_original = Counter([len(comp) / num_nodes for comp in component_method(G_original)])\n",
    "    cnt_configuration = Counter([len(comp) / num_nodes for comp in component_method(G_configuration)])\n",
    "    total_original = sum(list(cnt_original.values()))\n",
    "    total_configuration = sum(list(cnt_configuration.values()))\n",
    "    \n",
    "    fig, ax = plt.subplots()\n",
    "    \n",
    "    # plot counter values using scatter plots\n",
    "    ax.scatter(x=list(cnt_original.keys()), y=np.array(list(cnt_original.values()))/total_original, \n",
    "               label='Original network', s=100, alpha=0.6)\n",
    "    \n",
    "    ax.scatter(x=np.array(list(cnt_configuration.keys())), y=np.array(list(cnt_configuration.values()))/total_configuration, \n",
    "               label='Configuration network', s=100, alpha=0.6)\n",
    "    \n",
    "    # set log-log scale\n",
    "    ax.set_xscale('log')\n",
    "    ax.set_yscale('log')\n",
    "    \n",
    "    # set x-axis limits such that components with 1 node and all nodes will be visible\n",
    "    ax.set_xlim((1 / num_nodes) * 0.8, 1.1)\n",
    "    ax.legend()\n",
    "    ax.set_title(title)\n",
    "    ax.set_xlabel(\"Nodes in component/ N (log)\")\n",
    "    ax.set_ylabel(\"P(Nc) (log)\")\n",
    "\n",
    "    plt.show()\n",
    "    \n",
    "def make_configuration_model(G):\n",
    "    \"\"\"\n",
    "    Constructs a configuration model corresponding to the given network\n",
    "        @G (NetworkX Graph or Digraph)\n",
    "    Returns\n",
    "        NetworkX MultiGraph or MultiDiGraph\n",
    "    \"\"\"\n",
    "    \n",
    "    # if graph is directed, use make_directed_configuration_model()\n",
    "    if nx.is_directed(G):\n",
    "        return make_directed_configuration_model(G)\n",
    "    \n",
    "    # initialize multi-graph\n",
    "    conf_model = nx.MultiGraph()\n",
    "    \n",
    "    # get degree sequence\n",
    "    degree_seq = list(dict(G.degree).values())\n",
    "    \n",
    "    stubs = []\n",
    "    \n",
    "    # loop over each node degree and add stubs as tuples\n",
    "    for idx, degree in enumerate(degree_seq):    \n",
    "        for i in range(degree):\n",
    "            stubs.append( (idx, i) )\n",
    "    \n",
    "    while len(stubs) > 0:\n",
    "        # pop two stubs at random positions\n",
    "        stub1 = stubs.pop(random.randint(0, len(stubs) - 1))\n",
    "        stub2 = stubs.pop(random.randint(0, len(stubs) - 1))\n",
    "        \n",
    "        # add edge between nodes in each stub\n",
    "        conf_model.add_edge(stub1[0], stub2[0])\n",
    "    \n",
    "    return conf_model\n",
    "\n",
    "def make_directed_configuration_model(G):\n",
    "    \"\"\"\n",
    "    Constructs a configuration model corresponding to the given directed network\n",
    "        @G (NetworkX DiGraph)\n",
    "    Returns\n",
    "        NetworkX MultiDiGraph\n",
    "    \"\"\"\n",
    "    \n",
    "    conf_model = nx.MultiDiGraph()\n",
    "    \n",
    "    # get degree sequences\n",
    "    in_degree_seq = list(dict(G.in_degree).values())\n",
    "    out_degree_seq = list(dict(G.out_degree).values())\n",
    "    \n",
    "    in_stubs = []\n",
    "    out_stubs = []\n",
    "    \n",
    "    # loop over each node in-degree and add stubs as tuples\n",
    "    for idx, degree in enumerate(in_degree_seq):    \n",
    "        for i in range(degree):\n",
    "            in_stubs.append( (idx, i) )\n",
    "            \n",
    "    # loop over each node out-degree and add stubs as tuples\n",
    "    for idx, degree in enumerate(out_degree_seq):    \n",
    "        for i in range(degree):\n",
    "            out_stubs.append( (idx, i) )\n",
    "    \n",
    "    # loop over each out-degree stub and connect to a random in-degree stub\n",
    "    for node, edgenum in out_stubs:\n",
    "        in_stub = in_stubs.pop(random.randint(0, len(in_stubs) - 1))\n",
    "        conf_model.add_edge(node, in_stub[0])\n",
    "    \n",
    "    return conf_model"
   ]
  },
  {
   "cell_type": "code",
   "execution_count": 114,
   "metadata": {},
   "outputs": [],
   "source": [
    "def plot_component_distributions(G_original, G_configuration, title, \n",
    "                                 component_method=nx.connected_components):\n",
    "    \"\"\"\n",
    "    Visualizes component size distributions for a network and its configuration \n",
    "    network counterpart. Does not use binning.\n",
    "        @G_original (NetworkX Graph): Original network\n",
    "        @G_configuration (NetworkX Graph): Configuration network\n",
    "        @title (str): Plot title\n",
    "        @component_method: NetworkX method to extract components, e.g. nx.connected_components\n",
    "    \"\"\"\n",
    "\n",
    "\n",
    "    # get number of nodes for normalization\n",
    "    num_nodes = nx.number_of_nodes(G_original)\n",
    "    \n",
    "    # count distinct values using Counter. Normalize component sizes by number of nodes\n",
    "    cnt_original = Counter([len(comp) / num_nodes for comp in component_method(G_original)])\n",
    "    cnt_configuration = Counter([len(comp) / num_nodes for comp in component_method(G_configuration)])\n",
    "\n",
    "    \n",
    "    fig, ax = plt.subplots()\n",
    "    \n",
    "    # plot counter values using scatter plots\n",
    "    ax.scatter(x=list(cnt_original.keys()), y=np.array(list(cnt_original.values())), \n",
    "               label='Original network', s=100, alpha=0.6)\n",
    "    \n",
    "    ax.scatter(x=np.array(list(cnt_configuration.keys())), y=np.array(list(cnt_configuration.values())), \n",
    "               label='Configuration network', s=100, alpha=0.6)\n",
    "    \n",
    "    # set log-log scale\n",
    "    ax.set_xscale('log')\n",
    "    ax.set_yscale('log')\n",
    "    \n",
    "    # set x-axis limits such that components with 1 node and all nodes will be visible\n",
    "    ax.set_xlim((1 / num_nodes) * 0.8, 1.1)\n",
    "    ax.legend()\n",
    "    ax.set_title(title)\n",
    "    ax.set_xlabel(\"Proportion of nodes in component (log)\")\n",
    "    ax.set_ylabel(\"Frequency (log)\")\n",
    "    \n",
    "    plt.show()"
   ]
  },
  {
   "cell_type": "code",
   "execution_count": 115,
   "metadata": {},
   "outputs": [
    {
     "name": "stdout",
     "output_type": "stream",
     "text": [
      "Reddit network:\n",
      "Name: \n",
      "Type: DiGraph\n",
      "Number of nodes: 35699\n",
      "Number of edges: 135707\n",
      "Average in degree:   3.8014\n",
      "Average out degree:   3.8014\n",
      "\n",
      "\n",
      "Reddit network configuration model:\n",
      "Name: \n",
      "Type: MultiDiGraph\n",
      "Number of nodes: 35699\n",
      "Number of edges: 135707\n",
      "Average in degree:   3.8014\n",
      "Average out degree:   3.8014\n",
      "Number of self-loops: 61\n"
     ]
    }
   ],
   "source": [
    "# create Collaboration configuration model\n",
    "conf_model = make_configuration_model(G)\n",
    "print(\"Reddit network:\")\n",
    "print(nx.info(G))\n",
    "\n",
    "print(\"\\n\\nReddit network configuration model:\")\n",
    "print(nx.info(conf_model))\n",
    "print(\"Number of self-loops: {}\"\n",
    "     .format(nx.number_of_selfloops(conf_model)))"
   ]
  },
  {
   "cell_type": "markdown",
   "metadata": {},
   "source": [
    "As we can see, the configuration model has self-loops, and we can also expect it to contain multi-links. We know, however, that the expected number of self-loops and multi-links goes to zero in the N → ∞ limit. "
   ]
  },
  {
   "cell_type": "markdown",
   "metadata": {},
   "source": [
    "# Strongly and weakly connected components\n",
    "#### We decided not to bin these plots and not to do cumulative distribution since there is such a stark difference between the largest component and the rest  of the components, which is best visualized by seeing the individual points."
   ]
  },
  {
   "cell_type": "code",
   "execution_count": 116,
   "metadata": {},
   "outputs": [
    {
     "name": "stdout",
     "output_type": "stream",
     "text": [
      "Number of weakly connected components in Reddit network: 499\n",
      "Number of weakly connected components in configuration network: 501\n",
      "The largest weakly connected component in the Reddit network includes 34590 nodes\n",
      "The largest weakly connected component in the configuration network includes 34675 nodes\n"
     ]
    },
    {
     "data": {
      "image/png": "[encoded data removed]",
      "text/plain": [
       "<Figure size 1080x360 with 1 Axes>"
      ]
     },
     "metadata": {},
     "output_type": "display_data"
    }
   ],
   "source": [
    "print(\"Number of weakly connected components in Reddit network: {}\"\n",
    "      .format(nx.number_weakly_connected_components(G)))\n",
    "print(\"Number of weakly connected components in configuration network: {}\"\n",
    "      .format(nx.number_weakly_connected_components(conf_model)))\n",
    "print(\"The largest weakly connected component in the Reddit network includes {} nodes\"\n",
    "      .format(len(max(nx.weakly_connected_components(G), key=len))))\n",
    "print(\"The largest weakly connected component in the configuration network includes {} nodes\"\n",
    "      .format(len(max(nx.weakly_connected_components(conf_model), key=len))))\n",
    "\n",
    "plot_component_distributions(G, conf_model, \n",
    "                             \"Weakly connected components size distribution\", \n",
    "                             component_method=nx.weakly_connected_components)"
   ]
  },
  {
   "cell_type": "code",
   "execution_count": 117,
   "metadata": {},
   "outputs": [
    {
     "name": "stdout",
     "output_type": "stream",
     "text": [
      "Number of strongly connected components in Reddit network: 24052\n",
      "Number of strongly connected components in configuration network: 24439\n",
      "The largest strongly connected component in the Reddit network includes 11507 nodes\n",
      "The largest strongly connected component in the configuration network includes 11261 nodes\n"
     ]
    },
    {
     "data": {
      "image/png": "[encoded data removed]",
      "text/plain": [
       "<Figure size 1080x360 with 1 Axes>"
      ]
     },
     "metadata": {},
     "output_type": "display_data"
    }
   ],
   "source": [
    "print(\"Number of strongly connected components in Reddit network: {}\"\n",
    "      .format(nx.number_strongly_connected_components(G)))\n",
    "print(\"Number of strongly connected components in configuration network: {}\"\n",
    "      .format(nx.number_strongly_connected_components(conf_model)))\n",
    "print(\"The largest strongly connected component in the Reddit network includes {} nodes\"\n",
    "      .format(len(max(nx.strongly_connected_components(G), key=len))))\n",
    "print(\"The largest strongly connected component in the configuration network includes {} nodes\"\n",
    "      .format(len(max(nx.strongly_connected_components(conf_model), key=len))))\n",
    "\n",
    "plot_component_distributions(G, conf_model, \n",
    "                             \"Strongly connected components size distribution\", \n",
    "                             component_method=nx.strongly_connected_components);"
   ]
  },
  {
   "cell_type": "markdown",
   "metadata": {},
   "source": [
    "#### The component we are most interested in analyzing is the largest strongly connected component consisting on around 30% of the nodes in our network. The remaining strongly connected components are under 7 nodes each, so they're irrelevant for our research question.\n",
    "#### We chose the largest strongly connected component over the largest weakly connected component since we found that nodes that only link to others without getting linked are usually not a relevant part of the communities we wished to research."
   ]
  },
  {
   "cell_type": "markdown",
   "metadata": {},
   "source": [
    "### Helper plotting functions"
   ]
  },
  {
   "cell_type": "code",
   "execution_count": 118,
   "metadata": {},
   "outputs": [],
   "source": [
    "def plot_cumulative_distribution(values, bins = 100,xlabel = '',ylabel = '', \n",
    "                                 title = 'Complementary cumulative distribution',show = True ,hide_hist = True):\n",
    "    \"\"\"\n",
    "    Shows the 1 - cumulative distribution of values.\n",
    "    \"\"\"\n",
    "    n,x, _ = plt.hist(values , density= True, cumulative = True, bins = bins)\n",
    "    \n",
    "    if hide_hist:\n",
    "        plt.close()\n",
    "    \n",
    "    # This line finds the middle of the histogram bins \n",
    "    bin_centers = 0.5*(x[1:]+x[:-1])\n",
    "    #This line 1-bin height so this plot becomes a complementary cumulative distribution\n",
    "    y = [1 - v for v in n] \n",
    "    \n",
    "    \n",
    "    \n",
    "    plt.title(title)\n",
    "    plt.xlabel(xlabel)\n",
    "    plt.ylabel(ylabel)\n",
    "    plt.gca().set_yscale(\"symlog\", linthresh=0.00001)\n",
    "    plt.gca().set_xscale(\"log\")\n",
    "    \n",
    "    if show:\n",
    "        plt.plot(bin_centers,y,'ro') ## using bin_centers rather than edges\n",
    "        plt.show()\n",
    "    else:\n",
    "        plt.close()\n",
    "\n",
    "        return bin_centers, y\n",
    "\n",
    "    \n",
    "def log_binned_prob_hist(values , bins_n = 15, logged = False,xlabel = 'k', ylabel = 'P(k)',\n",
    "                         title = \"Logarithmically binned degree distribution\",show = True ,**params ):\n",
    "    \"\"\"\n",
    "    This function shows a logarithmically binned histogram the input(values) is a list of integers or floats\n",
    "    \"\"\"\n",
    "    maximum_value = params.get('maximum_value', max(values))          \n",
    "    \n",
    "    #This line is to create weights which are used to normalise input data so the output of the function is\n",
    "    # a probability distribution\n",
    "    weights = np.ones_like(values) / (len(values))\n",
    "    \n",
    "    #np.logspace generater num samples equally space out on a logscale \n",
    "    n,x, _  = plt.hist(values, bins=np.logspace(np.log10(1), np.log10(maximum_value), num = bins_n )\n",
    "                       , weights = weights, log = True)\n",
    "    plt.close()\n",
    "    bin_centers = 0.5*(x[1:]+x[:-1])\n",
    "    plt.gca().set_yscale(\"symlog\", linthresh=0.0001)\n",
    "    plt.gca().set_xscale(\"log\")\n",
    "    plt.title(title)\n",
    "    plt.ylabel(ylabel)\n",
    "    plt.xlabel(xlabel)\n",
    "    plt.scatter(bin_centers,n)\n",
    "    \n",
    "    if show:\n",
    "        plt.show()\n",
    "    else:\n",
    "        plt.close()\n",
    "        return bin_centers ,n\n",
    "    \n",
    "# An easy way to plot the content of the counters\n",
    "#I create this function because I will plot a lot of probability distribution functions in this notebook\n",
    "def plot_counter(counter,degrees ,xlabel = '',ylabel = '',prob = True,**params):\n",
    "    \"\"\"\n",
    "    The counter object is dictionary like object which containt a measure like a degree of a node as keys and\n",
    "    the times it occured as values\n",
    "    \"\"\"\n",
    "    \n",
    "    lists = sorted(counter.items(), key = itemgetter(1)) # sorted by value\n",
    "    x, y = zip(*lists) # unpack the list of keys, counts\n",
    "    \n",
    "    \n",
    "    # If it is a probabilty distribution use the normalised y values\n",
    "    p_y = y / np.sum(y) #probability of y\n",
    "    if prob:\n",
    "        y_s = p_y\n",
    "    x_c, y_c = plot_cumulative_distribution(degrees ,show = False)\n",
    "    x_l, y_l =log_binned_prob_hist(degrees ,show = False)\n",
    "    \n",
    "    plt.clf()\n",
    "    \n",
    "    plt.subplot(221)\n",
    "    plt.title('Linear Scale')\n",
    "    plt.xlabel('k')\n",
    "    plt.ylabel('P(k)')\n",
    "    if params.get('has_xlim',False):\n",
    "        plt.xlim(params['left'],params['right'])\n",
    "    plt.plot(x,y_s, \"ro\")\n",
    "    \n",
    "    \n",
    "    plt.subplot(222)\n",
    "    plt.title('Logarithmic Scale')\n",
    "    plt.xlabel('k')\n",
    "    plt.ylabel('P(k)')\n",
    "    plt.gca().set_yscale(\"symlog\", linthresh=0.01)\n",
    "    plt.gca().set_xscale(\"log\")\n",
    "    if params.get('has_xlim',False):\n",
    "        plt.xlim(params['left'],params['right'])\n",
    "    plt.loglog(x,y_s, \"ro\")\n",
    "\n",
    "    plt.subplot(223)\n",
    "    \n",
    "    plt.gca().set_yscale(\"symlog\", linthresh=0.01)\n",
    "    plt.gca().set_xscale(\"log\")\n",
    "    plt.title(\"Logarithmically binned distribution\")\n",
    "    plt.xlabel('k')\n",
    "    plt.ylabel('P(k)')\n",
    "    plt.plot(x_l, y_l,'ro')\n",
    "    \n",
    "    plt.subplot(224)\n",
    "    \n",
    "    plt.title('Complementary cumulative distribution')\n",
    "    plt.xlabel('x')\n",
    "    plt.ylabel('P(x>k)')\n",
    "    plt.gca().set_yscale(\"symlog\", linthresh=0.01)\n",
    "    plt.gca().set_xscale(\"log\")\n",
    "    plt.plot(x_c, y_c,'ro')\n",
    "    \n",
    "    # This part is responsable for the legend\n",
    "    if params.get('has_legend', False):\n",
    "        legend_text = xlabel + ' =' + params['xmeaning'] + '\\n' + ylabel + ' =' + params['ymeaning']\n",
    "        plt.annotate(legend_text, xy=(250, -50), xycoords='axes points',\n",
    "            size=14, ha='left', va='top',\n",
    "            bbox=dict(boxstyle='round', fc='w'))\n",
    "    plt.subplots_adjust(hspace = 0.5)\n",
    "    plt.show()"
   ]
  },
  {
   "cell_type": "markdown",
   "metadata": {},
   "source": [
    "## In-Degree Distribution"
   ]
  },
  {
   "cell_type": "code",
   "execution_count": 119,
   "metadata": {},
   "outputs": [
    {
     "data": {
      "image/png": "[encoded data removed]",
      "text/plain": [
       "<Figure size 1080x360 with 4 Axes>"
      ]
     },
     "metadata": {},
     "output_type": "display_data"
    },
    {
     "name": "stdout",
     "output_type": "stream",
     "text": [
      "Largest in degree of any node in the Reddit network: 2105\n"
     ]
    }
   ],
   "source": [
    "in_degrees = np.array(list(dict(G.in_degree).values()))\n",
    "in_degree_count = Counter(dict(G.in_degree).values())\n",
    "\n",
    "plot_counter(in_degree_count,in_degrees,xlabel =  'k_in',ylabel ='P(k_in)')\n",
    "\n",
    "print(\"Largest in degree of any node in the Reddit network: {}\"\n",
    "      .format(max(in_degree_count.keys())))"
   ]
  },
  {
   "cell_type": "markdown",
   "metadata": {},
   "source": [
    "### We can look at the network to see which are the subreddits at the end of the scale (the ones that are linked the most):"
   ]
  },
  {
   "cell_type": "code",
   "execution_count": 120,
   "metadata": {},
   "outputs": [
    {
     "name": "stdout",
     "output_type": "stream",
     "text": [
      "10 most linked subreddits\n"
     ]
    },
    {
     "data": {
      "text/plain": [
       "[('askreddit', 2105),\n",
       " ('iama', 1625),\n",
       " ('pics', 933),\n",
       " ('videos', 864),\n",
       " ('todayilearned', 793),\n",
       " ('funny', 734),\n",
       " ('writingprompts', 705),\n",
       " ('worldnews', 639),\n",
       " ('outoftheloop', 585),\n",
       " ('mhoc', 583)]"
      ]
     },
     "execution_count": 120,
     "metadata": {},
     "output_type": "execute_result"
    }
   ],
   "source": [
    "print('10 most linked subreddits')\n",
    "indic = {k: v for k, v in sorted(dict(G.in_degree).items(), key=lambda item: item[1], reverse=True)}\n",
    "a = list({k: v for k, v in sorted(dict(G.in_degree).items(), key=lambda item: item[1], reverse=True)})[:10]\n",
    "b = []\n",
    "for key in a:\n",
    "    b.append((key,indic[key]))\n",
    "b"
   ]
  },
  {
   "cell_type": "markdown",
   "metadata": {},
   "source": [
    "## Out-Degree Distribution"
   ]
  },
  {
   "cell_type": "code",
   "execution_count": 121,
   "metadata": {},
   "outputs": [
    {
     "ename": "NameError",
     "evalue": "name 'out_degrees' is not defined",
     "output_type": "error",
     "traceback": [
      "\u001b[0;31m---------------------------------------------------------------------------\u001b[0m",
      "\u001b[0;31mNameError\u001b[0m                                 Traceback (most recent call last)",
      "\u001b[0;32m<ipython-input-121-103087e14191>\u001b[0m in \u001b[0;36m<module>\u001b[0;34m\u001b[0m\n\u001b[1;32m      1\u001b[0m \u001b[0mout_degree_count\u001b[0m \u001b[0;34m=\u001b[0m \u001b[0mCounter\u001b[0m\u001b[0;34m(\u001b[0m\u001b[0mdict\u001b[0m\u001b[0;34m(\u001b[0m\u001b[0mG\u001b[0m\u001b[0;34m.\u001b[0m\u001b[0mout_degree\u001b[0m\u001b[0;34m)\u001b[0m\u001b[0;34m.\u001b[0m\u001b[0mvalues\u001b[0m\u001b[0;34m(\u001b[0m\u001b[0;34m)\u001b[0m\u001b[0;34m)\u001b[0m\u001b[0;34m\u001b[0m\u001b[0;34m\u001b[0m\u001b[0m\n\u001b[1;32m      2\u001b[0m \u001b[0;34m\u001b[0m\u001b[0m\n\u001b[0;32m----> 3\u001b[0;31m \u001b[0mplot_counter\u001b[0m\u001b[0;34m(\u001b[0m\u001b[0mout_degree_count\u001b[0m\u001b[0;34m,\u001b[0m\u001b[0mout_degrees\u001b[0m\u001b[0;34m,\u001b[0m\u001b[0mxlabel\u001b[0m \u001b[0;34m=\u001b[0m  \u001b[0;34m'k_in'\u001b[0m\u001b[0;34m,\u001b[0m\u001b[0mylabel\u001b[0m \u001b[0;34m=\u001b[0m\u001b[0;34m'P(k_in)'\u001b[0m\u001b[0;34m)\u001b[0m\u001b[0;34m\u001b[0m\u001b[0;34m\u001b[0m\u001b[0m\n\u001b[0m\u001b[1;32m      4\u001b[0m \u001b[0;34m\u001b[0m\u001b[0m\n\u001b[1;32m      5\u001b[0m print(\"Largest in-degree of any node in the network: {}\"\n",
      "\u001b[0;31mNameError\u001b[0m: name 'out_degrees' is not defined"
     ]
    }
   ],
   "source": [
    "out_degree_count = Counter(dict(G.out_degree).values())\n",
    "\n",
    "plot_counter(out_degree_count,out_degrees,xlabel =  'k_in',ylabel ='P(k_in)')\n",
    "\n",
    "print(\"Largest in-degree of any node in the network: {}\"\n",
    "      .format(max(out_degree_count.keys())))"
   ]
  },
  {
   "cell_type": "markdown",
   "metadata": {},
   "source": [
    "### We can look at the network to see which are the subreddits at the end of the scale (the most active subreddits in terms of linkings):"
   ]
  },
  {
   "cell_type": "code",
   "execution_count": null,
   "metadata": {},
   "outputs": [],
   "source": [
    "print('10 subreddits that link the most')\n",
    "outdic = {k: v for k, v in sorted(dict(G.out_degree).items(), key=lambda item: item[1], reverse=True)}\n",
    "a = list({k: v for k, v in sorted(dict(G.out_degree).items(), key=lambda item: item[1], reverse=True)})[:10]\n",
    "b = []\n",
    "for key in a:\n",
    "    b.append((key,outdic[key]))\n",
    "b"
   ]
  },
  {
   "cell_type": "code",
   "execution_count": null,
   "metadata": {},
   "outputs": [],
   "source": [
    "weights = np.ones_like(out_degrees) / (len(out_degrees))\n",
    "\n",
    "names = ['out-degree', 'in-degree']\n",
    "plt.hist([out_degrees,in_degrees], \n",
    "         bins=np.logspace(np.log10(1),np.log10(max(out_degrees)),num = 15), weights = [weights,weights], label=names)\n",
    "plt.gca().set_xscale(\"log\")\n",
    "plt.title(\"Logarithmically binned degree distributions\")\n",
    "plt.legend()\n",
    "plt.ylabel(\"P(k)\")\n",
    "plt.xlabel('k')\n",
    "\n",
    "plt.yscale('log')\n",
    "plt.show()"
   ]
  },
  {
   "cell_type": "markdown",
   "metadata": {},
   "source": [
    "### As we can see, it's much more common to receive a lot of links than to send them. On the other hand, there is a greater quantity of subreddits with a small out-degree. This means that on average, many subreddits link to few big ones."
   ]
  },
  {
   "cell_type": "markdown",
   "metadata": {},
   "source": [
    "# Contructing a random network null model\n",
    " \n",
    "#### We construct a Erdős–Rényi random graph to compare our degree distribution and understand if it is due to our network size or some other underlying property."
   ]
  },
  {
   "cell_type": "code",
   "execution_count": null,
   "metadata": {},
   "outputs": [],
   "source": [
    "def construct_random_graph(G):\n",
    "    \"\"\"\n",
    "    Constructs an Erdős-Rényi random network null model for a NetworkX graph. \n",
    "    Copies node attributes from G to random graph.\n",
    "        @G: NetworkX Graph or DiGraph object\n",
    "    Returns\n",
    "        NetworkX Graph or DiGraph object with connections chosen uniformly at random\n",
    "    \"\"\"\n",
    "    \n",
    "    # extract number of nodes and edges\n",
    "    num_nodes = nx.number_of_nodes(G)\n",
    "    num_edges = nx.number_of_edges(G)\n",
    "    \n",
    "    # extract list of nodes in original graph\n",
    "    nodes = dict(G.nodes(data=True))\n",
    "    \n",
    "    # initilize mapping between original node name and idx value in random graph\n",
    "    node_idx_map = {}\n",
    "    \n",
    "    idx = 0\n",
    "    random_graph_node_attributes = {}\n",
    "    \n",
    "    # loop over each node and corresponding attributes in original graph\n",
    "    for name, attributes in nodes.items():\n",
    "        attribs = attributes\n",
    "        \n",
    "        # set name/id in original graph as 'original_id' attribute \n",
    "        attribs['original_id'] = name\n",
    "        random_graph_node_attributes[idx] = attribs\n",
    "        \n",
    "        # update node -> idx mapping and increment idx\n",
    "        node_idx_map[name] = idx\n",
    "        idx += 1\n",
    "        \n",
    "    # construct random graph\n",
    "    G_random = nx.gnm_random_graph(n=num_nodes, m=num_edges, seed=42, directed=nx.is_directed(G))\n",
    "    \n",
    "    # add node attributes from dict\n",
    "    nx.set_node_attributes(G_random, values=random_graph_node_attributes)\n",
    "    \n",
    "    return G_random"
   ]
  },
  {
   "cell_type": "code",
   "execution_count": null,
   "metadata": {},
   "outputs": [],
   "source": [
    "G_random = construct_random_graph(G)\n",
    "print(nx.info(G_random))"
   ]
  },
  {
   "cell_type": "markdown",
   "metadata": {},
   "source": [
    "#### As we can see, the ER network has the same number of nodes, edges and average degree. Let us now see how the degree distribution looks like for the ER model."
   ]
  },
  {
   "cell_type": "markdown",
   "metadata": {},
   "source": [
    "# ER model Out-Degree vs. Reddit Out-Degree"
   ]
  },
  {
   "cell_type": "code",
   "execution_count": null,
   "metadata": {},
   "outputs": [],
   "source": [
    "print(\"Random Network\")\n",
    "\n",
    "out_degree_count = Counter(dict(G_random.out_degree).values())\n",
    "\n",
    "plot_counter(out_degree_count,out_degrees,xlabel =  'k_in',ylabel ='P(k_in)')\n",
    "\n",
    "print(\"Largest in-degree of any node in the random network: {}\"\n",
    "      .format(max(out_degree_count.keys())))\n",
    "\n",
    "print(\"\\nReddit Network\")\n",
    "\n",
    "out_degree_count = Counter(dict(G.out_degree).values())\n",
    "\n",
    "plot_counter(out_degree_count,out_degrees,xlabel =  'k_in',ylabel ='P(k_in)')\n",
    "\n",
    "print(\"Largest in-degree of any node in the Reddit network: {}\"\n",
    "      .format(max(out_degree_count.keys())))"
   ]
  },
  {
   "cell_type": "markdown",
   "metadata": {},
   "source": [
    "#### Comparing the degree distributions, we can clearly see that our network's distribution is not due to random chance, but due to some of its underlying properties. We will now try to see what kind of distribution our network follows."
   ]
  },
  {
   "cell_type": "markdown",
   "metadata": {},
   "source": [
    "# Comparing fits"
   ]
  },
  {
   "cell_type": "code",
   "execution_count": null,
   "metadata": {},
   "outputs": [],
   "source": [
    "def compare_fits(fitoutput):\n",
    "    \"\"\"\n",
    "    Prints the pairwise comparison of distribution fits from the output of powerlaw.Fit()\n",
    "         @fitoutput: Output of powerlaw.Fit() to the degree distribution of a network \n",
    "    \"\"\"\n",
    "    distribution_names = ['power_law', 'exponential', 'lognormal', 'truncated_power_law']\n",
    "\n",
    "    # loop over each pairwise combination of the three distributions\n",
    "    for f1, f2 in itertools.combinations(distribution_names, 2):\n",
    "        R, p = fitoutput.distribution_compare(f1, f2)\n",
    "        print(\"Result of {} vs. {}: R = {}, p = {}\"\n",
    "             .format(f1, f2, R, p))\n",
    "        \n",
    "    # print optimal parameters\n",
    "    print(\"\\n\\nOPTIMAL PARAMETERS:\")\n",
    "    print(\" * Power law: alpha = {:.6}\".format(fitoutput.power_law.alpha))\n",
    "    print(\" * Lognormal:  mu = {:.6}, sigma = {:.6}\".format(fitoutput.lognormal.mu, fitoutput.lognormal.sigma))\n",
    "    print(\" * Exponential: lambda = {:.6}\".format(fitoutput.exponential.Lambda))\n",
    "    print(\" * Power law w. exponential cutoff: lambda = {:.6}, alpha = {:.6}\"\n",
    "          .format(fitoutput.truncated_power_law.Lambda, fitoutput.truncated_power_law.alpha))\n",
    "    \n",
    "def plot_ccdf(fitoutput, title=\"CCDF\"):\n",
    "    \"\"\"\n",
    "    Plots complement of a cumulative distribution (CCDF) from the output of a \n",
    "    degree distribution fitted using the powerlaw package\n",
    "        @fitoutput: Output of powerlaw.Fit() to the degree distribution of a network \n",
    "    \"\"\"\n",
    "    plt.figure()\n",
    "    fig1 = fitoutput.plot_ccdf(label='CCDF', linestyle='--', marker='o')\n",
    "    plt.title(title)\n",
    "    plt.legend()\n",
    "    plt.ylim(0.001, 1.2)\n",
    "    plt.xlabel('$x$')\n",
    "    plt.ylabel('$P(k>=x)$')\n",
    "    plt.show()\n",
    "    \n",
    "def plot_ccdf_with_fits(fitoutput, title=\"CCDF\"):\n",
    "    \"\"\"\n",
    "    Plots complement of a cumulative distribution (CCDF) from the output of a \n",
    "    degree distribution fitted using the powerlaw package\n",
    "        @fitoutput: Output of powerlaw.Fit() to the degree distribution of a network \n",
    "    \"\"\"\n",
    "    plt.figure()\n",
    "    fig1 = fitoutput.plot_ccdf(label='CCDF', linestyle='--', marker='o')\n",
    "    \n",
    "    # add fitted powerlaw, exponential and lognormal CCDF plots as dashed lines\n",
    "    fitoutput.power_law.plot_ccdf(ax=fig1, color='r', linestyle='--', label='power-law fit')\n",
    "    fitoutput.exponential.plot_ccdf(ax=fig1, color='g', linestyle='--', label='exponential fit')\n",
    "    fitoutput.lognormal.plot_ccdf(ax=fig1, color='b', linestyle='--', label='lognormal fit')\n",
    "    fitoutput.truncated_power_law.plot_ccdf(ax=fig1, color='k', linestyle='--', label='Powerlaw w. exp. cutoff')\n",
    "\n",
    "    plt.title(title)\n",
    "    plt.legend()\n",
    "    plt.ylim(0.001, 1.2)\n",
    "    plt.xlabel('$x$')\n",
    "    plt.ylabel('$P(x>k)$')\n",
    "    plt.show()"
   ]
  },
  {
   "cell_type": "code",
   "execution_count": null,
   "metadata": {},
   "outputs": [],
   "source": [
    "# Positive R means better fit for the first distribution. If p > 0.05, the algorithm can't determine what's better.\n",
    "print(\"Comparisons of distribution fits for the Reddit network in-degrees:\\n\")\n",
    "compare_fits(fitoutput_in)"
   ]
  },
  {
   "cell_type": "code",
   "execution_count": null,
   "metadata": {},
   "outputs": [],
   "source": [
    "print(\"Comparisons of distribution fits for the Reddit network out-degrees:\\n\")\n",
    "compare_fits(fitoutput_out)"
   ]
  },
  {
   "cell_type": "code",
   "execution_count": null,
   "metadata": {},
   "outputs": [],
   "source": [
    "# Extract the list of all node degrees in the network for in- and out-degrees\n",
    "degrees_in = np.array(list(dict(G.in_degree).values()))\n",
    "degrees_out = np.array(list(dict(G.out_degree).values()))\n",
    "\n",
    "# fit each degree distribution using powerlaw\n",
    "fitoutput_in = powerlaw.Fit(degrees_in, verbose=False)\n",
    "fitoutput_out = powerlaw.Fit(degrees_out, verbose=False)\n",
    "\n",
    "# Plot the CCDF distribution fits\n",
    "plot_ccdf_with_fits(fitoutput_in, \"CCDF with distribution fits\\nReddit network in-degrees\")\n",
    "plot_ccdf_with_fits(fitoutput_out, \"CCDF with distribution fits\\nReddit network out-degree\")"
   ]
  },
  {
   "cell_type": "markdown",
   "metadata": {},
   "source": [
    "#### Getting the degree exponent γ of the network:"
   ]
  },
  {
   "cell_type": "code",
   "execution_count": null,
   "metadata": {},
   "outputs": [],
   "source": [
    "warnings.simplefilter('ignore')\n",
    "results_in = powerlaw.Fit(degrees_in)\n",
    "results_out = powerlaw.Fit(degrees_out)\n",
    "print(f\"The in-degree exponent γ is {results_in.power_law.alpha}\")\n",
    "print(f\"The out-degree exponent γ is {results_out.power_law.alpha}\")"
   ]
  },
  {
   "cell_type": "markdown",
   "metadata": {},
   "source": [
    "#### Our distribution fit comparison shows that powerlaw with exponential cutoff is the best fit for our network. Our network is then (at least for the most part) scale free, and a γ of approximately 2.5 points towards an Ultra-Small World network.\n",
    "#### We will now calculate the shortest path length distribution for a sampling of 5000 nodes in each network."
   ]
  },
  {
   "cell_type": "code",
   "execution_count": null,
   "metadata": {},
   "outputs": [],
   "source": [
    "def sample_shortest_path_lengths(G, n=1000):\n",
    "    \"\"\"\n",
    "    Samples n shortest lengths from random pairs of n nodes in the network\n",
    "    \"\"\"\n",
    "    \n",
    "    sp_lengths = []\n",
    "    \n",
    "    # extract all nodes and shuffle order\n",
    "    nodes = list((G.nodes()))\n",
    "    random.shuffle(nodes)\n",
    "    \n",
    "    # get all pairs of n nodes and shuffle pairs\n",
    "    node_pairs = list(itertools.combinations(nodes[:n], 2))\n",
    "    random.shuffle(node_pairs)\n",
    "    \n",
    "    diam = 0\n",
    "    # take shortest path length until n lengths is reached\n",
    "    for source, target in node_pairs:\n",
    "        if not nx.has_path(G, source, target):\n",
    "            continue\n",
    "        shortest = len(nx.shortest_path(G, source, target))\n",
    "        sp_lengths.append(shortest)\n",
    "        if len(sp_lengths) > n:\n",
    "            break\n",
    "        if shortest > diam:\n",
    "            diam = shortest\n",
    "    return (sp_lengths, diam)\n",
    "\n",
    "def compare_distributions(title, dist1, dist2, xlabel, log=False, bins=20):\n",
    "    \"\"\"\n",
    "    Plots two distributions on a single plot. \n",
    "    Plots histogram output as scatter plot with x-ticks marking bin centers \n",
    "        @title: plot title\n",
    "        @dist1 (list): distribution from original network\n",
    "        @dist2 (list): ditribution from random network null model\n",
    "        @xlabel (str): label on x-axis\n",
    "        @log (boolean): If True, logscales y-axis\n",
    "        @bins (int or list): number of histogram bins or list with pre-defined bin edges\n",
    "    \"\"\"\n",
    "        \n",
    "    # get histogram scatter points of distribution 1\n",
    "    n_1, x_1, _ = plt.hist(dist1, bins = bins)\n",
    "    bin_centers_1 = 0.5*(x_1[1:]+x_1[:-1])\n",
    "    plt.close()\n",
    "    \n",
    "    # get histogram scatter points of distribution 2\n",
    "    n_2, x_2, _ = plt.hist(dist2, bins = bins)\n",
    "    bin_centers_2 = 0.5*(x_2[1:]+x_2[:-1])\n",
    "    plt.close()\n",
    "    \n",
    "    # initilize subplots\n",
    "    fig, (ax1) = plt.subplots(1, 1, figsize=(15, 10))\n",
    "    \n",
    "    # set y logscale if specified\n",
    "    if log:\n",
    "        ax1.set_yscale(\"symlog\")\n",
    "\n",
    "    \n",
    "    # plot distribution from original network\n",
    "    ax1.scatter(bin_centers_1, n_1, label='Reddit network', s=100)\n",
    "    \n",
    "    # add mean as vertical line\n",
    "    ax1.axvline(x=np.mean(dist1), label='Reddit network mean: {:.3}'.format(np.mean(dist1)), \n",
    "                color='#f2ada2', linestyle='--')\n",
    "    \n",
    "    \n",
    "    # if bins is list, set x-ticks as bin centers and rotate xlabels \n",
    "    if isinstance(bins, list):\n",
    "        ax1.set_xticks(bin_centers_1)\n",
    "        ax1.set_xlim(min(bins), max(bins))\n",
    "        ax1.tick_params(axis='x', labelrotation=90)\n",
    "\n",
    "    ax1.set_title(title)\n",
    "    ax1.set_xlabel(xlabel)\n",
    "    ax1.set_ylabel(\"Frequency\")\n",
    "        \n",
    "    # plot distribution from Configuration network\n",
    "    ax1.scatter(bin_centers_2, n_2, label='Null model', s=100)\n",
    "    ax1.axvline(x=np.mean(dist2), label='Null model mean: {:.3}'.format(np.mean(dist2)), \n",
    "                color='#9fc1d6', linestyle='--')\n",
    "\n",
    "    ax1.legend(loc='best')\n",
    "\n",
    "    plt.show()"
   ]
  },
  {
   "cell_type": "code",
   "execution_count": null,
   "metadata": {},
   "outputs": [],
   "source": [
    "def get_largest_strong_component(DiGraph):\n",
    "    \n",
    "    components_sorted = sorted( nx.strongly_connected_components(DiGraph) , key=len, reverse=True )\n",
    "    return DiGraph.subgraph( components_sorted[0] )\n",
    "\n",
    "def get_sampled_shortest_path_lens(Graph , number_of_paths = 10000):\n",
    "    \n",
    "    path_lens = []\n",
    "    diam = 0\n",
    "    for i in range(number_of_paths):\n",
    "        \n",
    "        #if i % 100 == 0:\n",
    "        #   print(i)\n",
    "        \n",
    "        nodes = random.sample(Graph.nodes(),2) # RS: explain that with this you avoid taking the shortest path between a node and itself\n",
    "        shortest_path = nx.shortest_path(Graph, source=nodes[0], target=nodes[1])\n",
    "        path_lens.append(len(shortest_path))\n",
    "\n",
    "    return path_lens\n",
    "    \n",
    "def hist_counter(counter,xlabel = '',ylabel = '',prob = True,**params):\n",
    "    lists = sorted(counter.items(), key = itemgetter(1)) # sorted by value\n",
    "    x, y = zip(*lists) # unpack the list of keys, counts\n",
    "    p_y = y / np.sum(y) #probability of y\n",
    "    \n",
    "    if prob:\n",
    "        y = p_y\n",
    "\n",
    "    plt.clf()\n",
    "    plt.subplot(121)\n",
    "    plt.title('Shortest path distribution')\n",
    "    plt.xlabel(xlabel)\n",
    "    plt.ylabel(ylabel)\n",
    "    plt.xticks(np.arange(1, max(x)+1, 1.0))\n",
    "    \n",
    "    if params.get('has_xlim',False):\n",
    "        plt.xlim(params['left'],params['right'])\n",
    "        \n",
    "    plt.bar(x ,y)\n",
    "    \n",
    "    if params.get('has_legend',False):\n",
    "        legend_text = xlabel + ' =' + params['xmeaning'] + '\\n' + ylabel + ' =' + params['ymeaning']\n",
    "        plt.annotate(legend_text, xy=(250, -50), xycoords='axes points',\n",
    "            size=14, ha='left', va='top',\n",
    "            bbox=dict(boxstyle='round', fc='w'))\n",
    "\n",
    "    plt.show()    \n",
    "\n",
    "largest_strong_component = get_largest_strong_component(G)\n",
    "shortest_path_len_counts = Counter(get_sampled_shortest_path_lens(largest_strong_component))"
   ]
  },
  {
   "cell_type": "code",
   "execution_count": null,
   "metadata": {},
   "outputs": [],
   "source": [
    "# sample 5000 shortest path lengths from each network\n",
    "shortest_paths, reddit_diam = sample_shortest_path_lengths(G, n=5000)\n",
    "shortest_paths_random, random_diam = sample_shortest_path_lengths(G_random, n=5000)\n",
    "shortest_paths_conf, conf_diam = sample_shortest_path_lengths(conf_model, n=5000)\n",
    "\n",
    "compare_distributions('Shortest path length distribution for Reddit vs. ER network', \n",
    "                      shortest_paths, shortest_paths_random, \n",
    "                      \"Shortest path length\", log=True, bins = 7)\n",
    "\n",
    "print(\"Diameter for Reddit is\", reddit_diam)\n",
    "print(\"Diameter for the ER Network is\", random_diam)"
   ]
  },
  {
   "cell_type": "markdown",
   "metadata": {},
   "source": [
    "#### As we can see, the mean shortest path length in the Reddit network is smaller than that of the random network. This is probably due to the prevalence of hubs in our network (remember that our network has nodes with degree in the order of thousands, while the random network has a maximum degree of 14). This average distance is more in line with a critical point γ of 3 than an ultra-small world γ between 2 and 3, where we would expect an average distance of 2.35."
   ]
  },
  {
   "cell_type": "code",
   "execution_count": null,
   "metadata": {},
   "outputs": [],
   "source": [
    "compare_distributions('Shortest path length distribution for Reddit vs. Configuration network', \n",
    "                      shortest_paths, shortest_paths_conf, \n",
    "                      \"Shortest path length\", log=True, bins = 7)\n",
    "\n",
    "print(\"Diameter for Reddit is\", reddit_diam)\n",
    "print(\"Diameter for the Configuration Network is\", conf_diam)"
   ]
  },
  {
   "cell_type": "markdown",
   "metadata": {},
   "source": [
    "#### When we compare average path length of the Reddit network to the configuration network, they're very similar. It is interesting to note that while the configuration network has a smaller diameter, it has fewer short paths than the Reddit network. This may be due to the pressence of a community structure in the Reddit network, which would be less prevalent in a random network like the one created by a configuration model."
   ]
  },
  {
   "cell_type": "markdown",
   "metadata": {},
   "source": [
    "# Centrality distributions\n",
    "### Calculating betweenness, closeness and eigen centralities"
   ]
  },
  {
   "cell_type": "code",
   "execution_count": null,
   "metadata": {},
   "outputs": [],
   "source": [
    "def get_largest_strong_component(DiGraph):\n",
    "    '''\n",
    "    Helper function for getting the largest strongly connected component.\n",
    "    '''\n",
    "    components_sorted = sorted(nx.strongly_connected_components(DiGraph) , key=len, reverse=True )\n",
    "    return DiGraph.subgraph(components_sorted[0])\n",
    "\n",
    "conf_model = nx.DiGraph(conf_model) #Removing self loops so we can run centralities"
   ]
  },
  {
   "cell_type": "code",
   "execution_count": null,
   "metadata": {},
   "outputs": [],
   "source": [
    "b_centrality = list(nx.betweenness_centrality(G, k = 1000).values())\n",
    "conf_b_centrality = list(nx.betweenness_centrality(conf_model, k = 1000).values())"
   ]
  },
  {
   "cell_type": "code",
   "execution_count": null,
   "metadata": {},
   "outputs": [],
   "source": [
    "# Takes A LONG time to run\n",
    "\n",
    "largest = get_largest_strong_component(G)\n",
    "largest_conf = get_largest_strong_component(conf_model)\n",
    "\n",
    "sampled_nodes = random.sample(largest.nodes(),1000)\n",
    "closeness = {}\n",
    "for node in sampled_nodes:\n",
    "    closeness[node] = nx.closeness_centrality(largest,u = node)\n",
    "closeness = list(closeness.values())\n",
    "\n",
    "sampled_conf_nodes = random.sample(largest_conf.nodes(),1000)\n",
    "conf_closeness = {}\n",
    "for node in conf_sampled_nodes:\n",
    "    conf_closeness[node] = nx.closeness_centrality(largest_conf,u = node)\n",
    "conf_closeness = list(conf_closeness.values())"
   ]
  },
  {
   "cell_type": "code",
   "execution_count": null,
   "metadata": {},
   "outputs": [],
   "source": [
    "eigen_centrality = list(dict(nx.eigenvector_centrality(G)).values())\n",
    "conf_eigen_centrality = list(dict(nx.eigenvector_centrality(nx.Graph(conf_model))).values())"
   ]
  },
  {
   "cell_type": "code",
   "execution_count": null,
   "metadata": {},
   "outputs": [],
   "source": [
    "# plot distributions with 10 linear bins\n",
    "compare_distributions('Reddit Betweenness centrality distribution vs. Configuration \\n(linear binning)', \n",
    "                      b_centrality,conf_b_centrality, \"Betweenness centrality\", \n",
    "                      log=True, bins=list(np.linspace(min((b_centrality + conf_b_centrality)), \n",
    "                                                      max((b_centrality + conf_b_centrality)),\n",
    "                                                      10, endpoint=True)))"
   ]
  },
  {
   "cell_type": "markdown",
   "metadata": {},
   "source": [
    "#### It is interesting to see that the Reddit network has a higher percentage of high betwenness centrality than the configuration network. This may again be due to the prevalent community structure in the Reddit network. We expected to see this given that we had a number of high degree nodes that connected to a large portion of the network. This makes sense, as the default subreddits tend to be known by most of the network."
   ]
  },
  {
   "cell_type": "code",
   "execution_count": null,
   "metadata": {},
   "outputs": [],
   "source": [
    "# plot distributions with 10 linear bins\n",
    "compare_distributions('Reddit Closeness centrality distribution vs. Configuration \\n(linear binning)', \n",
    "                      closeness,conf_closeness, \"Closeness centrality\", \n",
    "                      log=True, bins=list(np.linspace(0.1, \n",
    "                                                      max((conf_closeness + configuration_centrality)),\n",
    "                                                      10, endpoint=True)))"
   ]
  },
  {
   "cell_type": "markdown",
   "metadata": {},
   "source": [
    "#### Closeness centrality in the Reddit network appears to be extremely close to the configuration network, so closeness centrality in the Reddit network appears to be related to its degree distribution. "
   ]
  },
  {
   "cell_type": "code",
   "execution_count": null,
   "metadata": {},
   "outputs": [],
   "source": [
    "# plot distributions with 10 linear bins\n",
    "compare_distributions('Reddit Eigenvector centrality distribution vs. Configuration \\n(linear binning)', \n",
    "                      eigen_centrality,conf_eigen_centrality, \"Eigenvector centrality\", \n",
    "                      log=True, bins=list(np.linspace(min((eigen_centrality + conf_eigen_centrality)), \n",
    "                                                      max((eigen_centrality + conf_eigen_centrality)),\n",
    "                                                      10, endpoint=True)))"
   ]
  },
  {
   "cell_type": "markdown",
   "metadata": {},
   "source": [
    "#### Most interesting is the end of the graph. We see that the reddit network has a significantly higher frequency of high eigencentrality nodes compared to the configuration network. This is due to the reddit network consisting of hubs and communities with presumably very high importance for the network, and since these are so essential to the network's structure, we see a high frequency of high eigencentralities."
   ]
  },
  {
   "cell_type": "markdown",
   "metadata": {},
   "source": [
    "# Clustering coefficient"
   ]
  },
  {
   "cell_type": "code",
   "execution_count": 18,
   "metadata": {},
   "outputs": [
    {
     "data": {
      "image/png": "[encoded data removed]",
      "text/plain": [
       "<Figure size 1080x360 with 2 Axes>"
      ]
     },
     "metadata": {},
     "output_type": "display_data"
    },
    {
     "name": "stdout",
     "output_type": "stream",
     "text": [
      "The global clustering coefficient of the network: 0.13574375123352495\n"
     ]
    }
   ],
   "source": [
    "nodes_clustering = nx.clustering(G)\n",
    "clustering_count = Counter(nodes_clustering.values())\n",
    "plot_counter(clustering_count,xlabel = \"C\", ylabel = \"P(C)\" ,has_legend = True,\n",
    "             xmeaning = ' Clustering coefficient', ymeaning = ' Probability of clustering coefficient')\n",
    "clustering_coefficient = nx.average_clustering(G)\n",
    "print(\"The global clustering coefficient of the network: {}\".format(clustering_coefficient))"
   ]
  },
  {
   "cell_type": "code",
   "execution_count": null,
   "metadata": {},
   "outputs": [],
   "source": [
    "cc_dist = list(dict(nx.clustering(G)).values())\n",
    "configuration_cc_dist = list(dict(nx.clustering(nx.DiGraph(conf_model))).values())\n",
    "\n",
    "compare_distributions('Clustering coefficient distribution - Reddit network \\n(linear binning)', \n",
    "                      cc_dist, configuration_cc_dist, \"Clustering coefficient\", \n",
    "                      log=True, bins=[-0.05, 0.05, 0.15, 0.25, 0.35, 0.45, \n",
    "                                      0.55, 0.65, 0.75, 0.85, 0.95, 1.05])"
   ]
  },
  {
   "cell_type": "markdown",
   "metadata": {},
   "source": [
    "#### In the clustering coefficient distribution, we see that the Reddit network has significantly higher values across the board. We expected high values, but not this much higher than the configuration network. However, this is still really great results, and it strongly supports our hypothesis of Reddit having an underlying community structure. High clustering coefficients mean that neighbors of nodes often interconnect with each other, forming communities as we expected. It makes sense considering Reddit is split up into different Subreddits with different themes. The Subreddits with related themes will likely link to each other, and this property is not mirrored to the same extent by the configuration model, despite sharing the same degree sequence."
   ]
  },
  {
   "cell_type": "markdown",
   "metadata": {},
   "source": [
    "## Assortativity/degree correlations"
   ]
  },
  {
   "cell_type": "code",
   "execution_count": null,
   "metadata": {},
   "outputs": [],
   "source": [
    "options = [\"in\", \"out\"]\n",
    "for a in options:\n",
    "    for b in options:\n",
    "        g_assort = nx.degree_assortativity_coefficient(G, x=a, y=b)\n",
    "        conf_assort = nx.degree_assortativity_coefficient(conf_model, x=a, y=b)\n",
    "        print(f\"For {a} and {b}\")\n",
    "        print(f\"The assortativty of the reddit network is {g_assort}\\nThe assortativty of the configuration model is {conf_assort}\\n\")"
   ]
  },
  {
   "cell_type": "markdown",
   "metadata": {},
   "source": [
    "#### The Reddit network is slightly more disassortative across the board than the configuration model, implying that the degree distribution alone doesn't account for the slight disassortativity of our network. "
   ]
  },
  {
   "cell_type": "markdown",
   "metadata": {},
   "source": [
    "# Community Detection"
   ]
  },
  {
   "cell_type": "markdown",
   "metadata": {},
   "source": [
    "#### We decided on separating positive and negative edges when doing community detection, since making no distinction lead to less clear communities with overlapping topics. The positive communities have a surprisingly clear and identifiable main topic. However, the negative communities seem random, with little to no shared topic between them. This was relatively surprising, as we were expecting rivaling subreddits to have similar topics (e.g. two rivaling football subreddits or two subreddits on different sides of the political spectrum).\n",
    "\n",
    "#### We had to decide between keeping the direction of our edges or considering our graph as undirected. We chose the former, since that filtered out small or unrelated subreddits that were so obscure as to not receive links from anyone else in the network.\n",
    "\n",
    "#### During our work, we discovered that the two biggest detected communities had clearly identifiable subcommunities as well, and performing community detection on these communities gave us an insight into the subcommunities within."
   ]
  },
  {
   "cell_type": "code",
   "execution_count": null,
   "metadata": {},
   "outputs": [],
   "source": [
    "# Read network as directed graph from edge list\n",
    "G = pd.read_csv('clean_graph.csv', delimiter=\",\")\n",
    "\n",
    "# Remove two big subreddits that several different communities interact with. This makes it so that communities are more clearly defined by infomap.\n",
    "G = G[G.SOURCE_SUBREDDIT != 'askreddit']\n",
    "G = G[G.SOURCE_SUBREDDIT != 'iama']\n",
    "G = G[G.TARGET_SUBREDDIT != 'askreddit']\n",
    "G = G[G.TARGET_SUBREDDIT != 'iama']\n",
    "\n",
    "# Separate into negative and positive\n",
    "DF_POS = G[G.LINK_SENTIMENT == 1]\n",
    "DF_NEG = G[G.LINK_SENTIMENT == -1]\n",
    "\n",
    "# Load into nx\n",
    "G_POS = nx.convert_matrix.from_pandas_edgelist(DF_POS, source=\"SOURCE_SUBREDDIT\", target=\"TARGET_SUBREDDIT\", edge_attr=\"LINK_SENTIMENT\", create_using=nx.DiGraph)\n",
    "G_NEG = nx.convert_matrix.from_pandas_edgelist(DF_NEG, source=\"SOURCE_SUBREDDIT\", target=\"TARGET_SUBREDDIT\", edge_attr=\"LINK_SENTIMENT\", create_using=nx.DiGraph)\n",
    "\n",
    "# print summary of network\n",
    "print(nx.info(G_NEG))"
   ]
  },
  {
   "cell_type": "code",
   "execution_count": null,
   "metadata": {},
   "outputs": [],
   "source": [
    "# Replacing strings by integers to load into igraph\n",
    "\n",
    "nodes = set(G.SOURCE_SUBREDDIT.unique()).union(set(G.TARGET_SUBREDDIT.unique()))\n",
    "nodes_dict = dict(zip(nodes, range(len(nodes))))\n",
    "label_dict = dict([(value, key) for key, value in nodes_dict.items()])"
   ]
  },
  {
   "cell_type": "code",
   "execution_count": null,
   "metadata": {},
   "outputs": [],
   "source": [
    "# USES A LOT OF RAM - Probably need at least 9 GB of free RAM\n",
    "\n",
    "DF_NEG = DF_NEG.replace(to_replace=nodes_dict)\n",
    "DF_POS = DF_POS.replace(to_replace=nodes_dict)"
   ]
  },
  {
   "cell_type": "code",
   "execution_count": null,
   "metadata": {},
   "outputs": [],
   "source": [
    "# Loading into igraph\n",
    "igneg = ig.Graph.TupleList(DF_NEG.itertuples(index=False), directed=True, edge_attrs=\"weight\")\n",
    "igpos = ig.Graph.TupleList(DF_POS.itertuples(index=False), directed=True, edge_attrs=\"weight\")\n",
    "# Getting the largest strongly connected component\n",
    "negbc = igneg.components().giant()\n",
    "posbc = igpos.components().giant()\n",
    "'''\n",
    "Doing infomap for community detection. 20 trials worked best for detection.\n",
    "Wanted to use the fast greedy algorithm, which merges individual nodes into communities in a way that greedily maximizes the modularity score of the graph.\n",
    "I thought it would be a really good idea for our realtively large network, but it has no support for directed graphs)\n",
    "'''\n",
    "negvertex = negbc.community_infomap(trials=20)\n",
    "posvertex = posbc.community_infomap(trials=20)"
   ]
  },
  {
   "cell_type": "code",
   "execution_count": null,
   "metadata": {},
   "outputs": [],
   "source": [
    "# Plotting function\n",
    "def plotcommunity(graph, name):\n",
    "    visual_style = dict()\n",
    "    layout = graph.layout_fruchterman_reingold()\n",
    "    visual_style[\"layout\"] = layout\n",
    "    visual_style[\"bbox\"] = (4500, 4500)\n",
    "    visual_style[\"margin\"] = 100\n",
    "    visual_style[\"vertex_label_size\"] = 18\n",
    "    visual_style[\"vertex_label\"] = [label_dict[x] for x in graph.vs[\"name\"]]\n",
    "    visual_style[\"edge_width\"] = 0.2\n",
    "    visual_style[\"edge_arrow_width\"] = 0.5\n",
    "    visual_style[\"edge_arrow_size\"] = 0.5\n",
    "    out = ig.plot(graph, **visual_style)\n",
    "    out.save(name + '.png')"
   ]
  },
  {
   "cell_type": "code",
   "execution_count": null,
   "metadata": {},
   "outputs": [],
   "source": [
    "ss = posvertex5.sizes() \n",
    "second = posvertex5.subgraph(ss.index(sorted(ss, reverse=True)[1]))\n",
    "third = posvertex5.subgraph(ss.index(sorted(ss, reverse=True)[2]))\n",
    "fourth = posvertex5.subgraph(ss.index(sorted(ss, reverse=True)[3]))\n",
    "\n",
    "plotcommunity(posvertex5.giant(), \"P1\")\n",
    "plotcommunity(second, \"P2\")\n",
    "plotcommunity(third, \"P3\")\n",
    "plotcommunity(fourth, \"P4\")"
   ]
  },
  {
   "cell_type": "code",
   "execution_count": null,
   "metadata": {},
   "outputs": [],
   "source": [
    "plotcommunity(posvertex.subgraph(ss.index(sorted(ss, reverse=True)[14])), \"socialism\")"
   ]
  },
  {
   "cell_type": "markdown",
   "metadata": {},
   "source": [
    "### Finding highest degree nodes in the biggest communities (with a few copycat errors due to indexing, which we couldn't fix)"
   ]
  },
  {
   "cell_type": "code",
   "execution_count": null,
   "metadata": {},
   "outputs": [],
   "source": [
    "ss = posvertex.sizes()\n",
    "for i in range(28):\n",
    "    temp = posvertex.subgraph(ss.index(sorted(ss, reverse=True)[i]))\n",
    "    print(i, label_dict[[x for x in temp.vs if x.indegree() == max(temp.indegree())][0]['name']])"
   ]
  },
  {
   "cell_type": "markdown",
   "metadata": {},
   "source": [
    "### This gives us a rough idea of the most popular communities' themes on Reddit"
   ]
  },
  {
   "cell_type": "code",
   "execution_count": null,
   "metadata": {},
   "outputs": [],
   "source": [
    "# Plots of biggest positive communities\n",
    "ss = posvertex.sizes() \n",
    "second = posvertex.subgraph(ss.index(sorted(ss, reverse=True)[1]))\n",
    "third = posvertex.subgraph(ss.index(sorted(ss, reverse=True)[2]))\n",
    "fourth = posvertex.subgraph(ss.index(sorted(ss, reverse=True)[3]))\n",
    "\n",
    "plotcommunity(posvertex.giant(), \"P1\")\n",
    "plotcommunity(second, \"P2\")\n",
    "plotcommunity(third, \"P3\")\n",
    "plotcommunity(fourth, \"P4\")\n",
    "\n",
    "# Plots of biggest negative communities\n",
    "ss = negvertex.sizes()\n",
    "second = negvertex.subgraph(ss.index(sorted(ss, reverse=True)[1]))\n",
    "third = negvertex.subgraph(ss.index(sorted(ss, reverse=True)[2]))\n",
    "fourth = negvertex.subgraph(ss.index(sorted(ss, reverse=True)[3]))\n",
    "\n",
    "plotcommunity(negvertex.giant(), \"N1\")\n",
    "plotcommunity(second, \"N2\")\n",
    "plotcommunity(third, \"N3\")\n",
    "plotcommunity(fourth, \"N4\")"
   ]
  },
  {
   "cell_type": "code",
   "execution_count": null,
   "metadata": {},
   "outputs": [],
   "source": [
    "# Getting subcommunities inside the two biggest communities\n",
    "\n",
    "subcommunities1 = posvertex.giant().community_infomap(trials=20)\n",
    "subcommunities2 = posvertex.subgraph(ss.index(sorted(ss, reverse=True)[1])).community_infomap(trials=20)\n",
    "\n",
    "ss = subcommunities1.sizes()\n",
    "second = subcommunities1.subgraph(ss.index(sorted(ss, reverse=True)[1]))\n",
    "\n",
    "# Plotting largest communities of the largest subcommunity\n",
    "\n",
    "plotcommunity(subcommunities1.giant(), \"SC1\")\n",
    "plotcommunity(second, \"SC2\")"
   ]
  },
  {
   "cell_type": "code",
   "execution_count": null,
   "metadata": {},
   "outputs": [],
   "source": [
    "# Plotting histogram of communities\n",
    "\n",
    "xs, ys = zip(*[(left, count) for left, _, count in posvertex.size_histogram(bin_width=6).bins()])\n",
    "plt.bar(xs, ys, width=5,log=1)\n",
    "plt.xlabel(\"Community size\")\n",
    "plt.ylabel(\"Number of communities (log)\")\n",
    "plt.title(\"Community size distribution\")\n",
    "plt.yticks([1,10,100,300], labels=[1,10,100,300])\n",
    "plt.xticks(list(range(0,400,50)), labels=list(range(0,400,50)))\n",
    "plt.savefig(\"communitySizeDistribution.png\")\n",
    "plt.show()"
   ]
  },
  {
   "cell_type": "markdown",
   "metadata": {},
   "source": [
    "# Link Prediction\n",
    "The following is our implementation of link prediction. We start by splitting the data into a train set and test set. These cannot be too big, since the algorithms are quite expensive computationally. We are also implementing our network as an undirected network instead of a directed one, due to networkx requiring undirected graphs to do link prediction.  \n",
    "\n",
    "Whenever we're doing sets of edges, we duplicate all entries such that we both get (a,b) and (b,a). This is because they are not equal. The larger sets do not impact the performance though, since everything is almost doubled. \n",
    "\n",
    "Link prediction is done with 4 different algorithms: common neighbor, jaccard coefficient, preferential attachment and resource allocation index. \n",
    "\n",
    "Preferential attachment usually performs the best, but depending on the choice of hyperparameters, performance may differ. Sometimes, common neighbor or resource allocation index performs better. Overall, the performance was decent, not particularly great, but considering the circumstances of the training process, it's better than expected. \n",
    "\n",
    "A big issue is our training size. With 10000 edges used, we end up with 4089 nodes, 6915 edges and an average degree 3.38. That's a node-edge ratio of $\\frac{6916}{4089}=1.69$ compared to the entire network with $\\frac{135707}{35699}=3.8$. Essentially, this means that the training network has significantly less edges per node to work with, and it likely results in some of the core community structure of the Reddit network is lost. Improving the node-edge ratio would likely result in better performance, and this can only be done by increasing the size of the training set. "
   ]
  },
  {
   "cell_type": "code",
   "execution_count": null,
   "metadata": {},
   "outputs": [],
   "source": [
    "# create train and test dataset from reddit.tsv\n",
    "# it's sorted such that edges appear according to timestamp\n",
    "G_reddit = pd.read_csv(r'reddit.tsv', delimiter=\"\\t\")\n",
    "G_reddit = G_reddit.sort_values('TIMESTAMP')\n",
    "G_reddit = G_reddit.drop(labels=[\"POST_ID\",\"TIMESTAMP\",\"PROPERTIES\"], axis=1)\n",
    "train = G_reddit.iloc[:10000]\n",
    "test  = G_reddit.iloc[10000:20000]\n",
    "train.to_csv('train.csv')\n",
    "test.to_csv('test.csv')"
   ]
  },
  {
   "cell_type": "code",
   "execution_count": null,
   "metadata": {},
   "outputs": [],
   "source": [
    "# load train and test data, conver them to graphs and create test set from test data\n",
    "test = pd.read_csv('test.csv')#.iloc[:1000]\n",
    "train = pd.read_csv('train.csv')#.iloc[1000:2000]\n",
    "G_train = nx.convert_matrix.from_pandas_edgelist(train, source=\"SOURCE_SUBREDDIT\", target=\"TARGET_SUBREDDIT\")\n",
    "G_test = nx.convert_matrix.from_pandas_edgelist(test, source=\"SOURCE_SUBREDDIT\", target=\"TARGET_SUBREDDIT\")"
   ]
  },
  {
   "cell_type": "code",
   "execution_count": null,
   "metadata": {},
   "outputs": [],
   "source": [
    "# create test set, remove all edges from the test set that contain nodes that are not in the training network\n",
    "test_set1 = set(G_test.edges)\n",
    "test_set2 = set([(pair[1], pair[0]) for pair in test_set1])\n",
    "test_data = test_set1 | test_set2\n",
    "\n",
    "nodes = set()\n",
    "for pair in G_train.edges:\n",
    "    nodes.add(pair[0])\n",
    "    nodes.add(pair[1])\n",
    "\n",
    "test_set = set()\n",
    "for pair in test_data:\n",
    "    if pair[0] in nodes and pair[1] in nodes:\n",
    "        test_set.add(pair)"
   ]
  },
  {
   "cell_type": "code",
   "execution_count": null,
   "metadata": {},
   "outputs": [],
   "source": [
    "# general function for link prediction, G is network, num_of_guesses is number of guesses \n",
    "# and method is the link prediction algorithm it uses. It's implemented using networkx functions.\n",
    "def link_prediction(G, num_of_guesses, method):\n",
    "    # find all combinations of unconnected pairs of nodes\n",
    "    all_node_pairs = set(itertools.product(G.nodes, repeat = 2))\n",
    "    all_unconnected_node_pairs = all_node_pairs - set(G.edges)\n",
    "    \n",
    "    # check which method is used, apply according function\n",
    "    if method == \"CN\":\n",
    "        score = {}\n",
    "        for node_pair in all_unconnected_node_pairs:\n",
    "            score[node_pair] = len(set(G.neighbors(node_pair[0])) & set(G.neighbors(node_pair[1])))\n",
    "    elif method == \"random_guess\":\n",
    "        sorted_best_guesses = set(random.sample(all_unconnected_node_pairs, num_of_guesses))\n",
    "        guesses = set([guess for guess in sorted_best_guesses])\n",
    "        reverse = set([(guess[1],guess[0]) for guess in sorted_best_guesses])\n",
    "        return guesses | reverse\n",
    "    elif method == \"jaccard\":\n",
    "        all_unconnected_node_pairs = list(nx.jaccard_coefficient(G, ebunch=all_unconnected_node_pairs))\n",
    "    elif method == \"pa\":\n",
    "        all_unconnected_node_pairs = list(nx.preferential_attachment(G, ebunch=all_unconnected_node_pairs))\n",
    "    elif method == \"rai\":\n",
    "        all_unconnected_node_pairs = list(nx.resource_allocation_index(G, ebunch=all_unconnected_node_pairs))\n",
    "    \n",
    "    # assign node pairs as keys to dict with score as value\n",
    "    if method != 'CN':\n",
    "        score = {}\n",
    "        for node_pair in all_unconnected_node_pairs:\n",
    "            if node_pair[0] != node_pair[1]:  # check if self link\n",
    "                score[(node_pair[0],node_pair[1])] = node_pair[2]\n",
    "\n",
    "    # sort predictions according to largest score\n",
    "    sorted_guesses = sorted(score.items(), key = lambda x: x[1], reverse = True)\n",
    "    sorted_best_guesses = sorted_guesses[:num_of_guesses]\n",
    "    # add all edges for both directions ((a,b) and (b,a)\n",
    "    guesses = set([guess[0] for guess in sorted_best_guesses])\n",
    "    reverse = set([(guess[0][1],guess[0][0]) for guess in sorted_best_guesses])\n",
    "    return guesses | reverse"
   ]
  },
  {
   "cell_type": "code",
   "execution_count": null,
   "metadata": {},
   "outputs": [],
   "source": [
    "# score performance of model using precision and recall\n",
    "def score(G, test_set, method, num_of_guesses):\n",
    "    guesses = link_prediction(G, num_of_guesses, method)\n",
    "    precision = len(guesses & test_set) / len(guesses)\n",
    "    recall = len(guesses & test_set) / len(test_set)\n",
    "    return (precision, recall)"
   ]
  },
  {
   "cell_type": "code",
   "execution_count": null,
   "metadata": {},
   "outputs": [],
   "source": [
    "# apply link prediction\n",
    "funcs = [\"CN\", \"jaccard\", \"pa\", \"rai\", \"random_guess\"]\n",
    "func_labels = ['common neighbor', 'jaccard', 'preferential attachment', 'resource allocation index', 'random guess']\n",
    "for label,func in zip(func_labels, funcs):\n",
    "    print(label, score(G_train, test_set, func, 100))"
   ]
  }
 ],
 "metadata": {
  "kernelspec": {
   "display_name": "Python 3",
   "language": "python",
   "name": "python3"
  },
  "language_info": {
   "codemirror_mode": {
    "name": "ipython",
    "version": 3
   },
   "file_extension": ".py",
   "mimetype": "text/x-python",
   "name": "python",
   "nbconvert_exporter": "python",
   "pygments_lexer": "ipython3",
   "version": "3.7.6"
  }
 },
 "nbformat": 4,
 "nbformat_minor": 4
}
