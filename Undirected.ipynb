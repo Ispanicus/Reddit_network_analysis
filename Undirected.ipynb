{
 "cells": [
  {
   "cell_type": "code",
   "execution_count": 1,
   "metadata": {},
   "outputs": [],
   "source": [
    "import community as cd\n",
    "import igraph as ig\n",
    "import networkx as nx\n",
    "import pandas as pd\n",
    "import numpy as np\n",
    "import matplotlib.pyplot as plt\n",
    "import matplotlib\n",
    "matplotlib.rcParams['figure.figsize'] = (15.0, 5.0)\n",
    "matplotlib.rcParams.update({'font.size': 18})\n",
    "import numpy as np\n",
    "from collections import Counter, defaultdict\n",
    "from operator import itemgetter\n",
    "import random\n",
    "import seaborn as sns\n",
    "import powerlaw\n",
    "import itertools\n",
    "plt.style.use('ggplot')\n",
    "import warnings\n",
    "\n",
    "# Ignore two specific warning messages from the powerlaw package. \n",
    "# Comment these lines to show warnings\n",
    "warnings.filterwarnings(\"ignore\", message=\"invalid value encountered in true_divide\")\n",
    "warnings.filterwarnings(\"ignore\", message=\"divide by zero encountered in true_divide\")"
   ]
  },
  {
   "cell_type": "code",
   "execution_count": 3,
   "metadata": {},
   "outputs": [
    {
     "name": "stdout",
     "output_type": "stream",
     "text": [
      "Name: \n",
      "Type: Graph\n",
      "Number of nodes: 4863\n",
      "Number of edges: 7434\n",
      "Average degree:   3.0574\n"
     ]
    }
   ],
   "source": [
    "# read network as directed graph from edge list\n",
    "G = pd.read_csv('clean_graph.csv', delimiter=\",\")\n",
    "\n",
    "# Remove big subreddits that are in several communities\n",
    "G = G[G.SOURCE_SUBREDDIT != 'askreddit']\n",
    "G = G[G.SOURCE_SUBREDDIT != 'iama']\n",
    "G = G[G.TARGET_SUBREDDIT != 'askreddit']\n",
    "G = G[G.TARGET_SUBREDDIT != 'iama']\n",
    "\n",
    "# Separate into negative and positive\n",
    "DF_POS = G[G.LINK_SENTIMENT == 1]\n",
    "DF_NEG = G[G.LINK_SENTIMENT == -1]\n",
    "\n",
    "# Load into nx\n",
    "G_POS = nx.convert_matrix.from_pandas_edgelist(DF_POS, source=\"SOURCE_SUBREDDIT\", target=\"TARGET_SUBREDDIT\", edge_attr=\"LINK_SENTIMENT\")\n",
    "G_NEG = nx.convert_matrix.from_pandas_edgelist(DF_NEG, source=\"SOURCE_SUBREDDIT\", target=\"TARGET_SUBREDDIT\", edge_attr=\"LINK_SENTIMENT\")\n",
    "\n",
    "\n",
    "# print summary of network\n",
    "print(nx.info(G_NEG))"
   ]
  },
  {
   "cell_type": "code",
   "execution_count": 4,
   "metadata": {},
   "outputs": [],
   "source": [
    "# Replacing strings by integers to load into igraph\n",
    "nodes = set(G.SOURCE_SUBREDDIT.unique()).union(set(G.TARGET_SUBREDDIT.unique()))\n",
    "nodes_dict = dict(zip(nodes, range(len(nodes))))\n",
    "label_dict = dict([(value, key) for key, value in nodes_dict.items()])\n",
    "\n",
    "DF_NEG = DF_NEG.replace(to_replace=nodes_dict)\n",
    "DF_POS = DF_POS.replace(to_replace=nodes_dict)"
   ]
  },
  {
   "cell_type": "code",
   "execution_count": 5,
   "metadata": {},
   "outputs": [],
   "source": [
    "DF_NEG.to_csv(\"NegativeUndirected.csv\")\n",
    "DF_POS.to_csv(\"PositiveUndirected.csv\")"
   ]
  },
  {
   "cell_type": "code",
   "execution_count": 10,
   "metadata": {},
   "outputs": [],
   "source": [
    "# Loading into igraph\n",
    "igneg = ig.Graph.TupleList(DF_NEG.itertuples(index=False))\n",
    "igpos = ig.Graph.TupleList(DF_POS.itertuples(index=False))\n",
    "# Getting the largest strongly connected component\n",
    "negbc = igneg.components().giant()\n",
    "posbc = igpos.components().giant()\n",
    "'''\n",
    "Doing infomap for community detection.\n",
    "Wanted to use the fast greedy algorithm, which merges individual nodes into communities in a way that greedily maximizes the modularity score of the graph.\n",
    "I thought it would be a really good idea for our realtively large network, but it has no support for directed graphs (story of our lives))\n",
    "'''\n",
    "negvertex = negbc.community_infomap(trials=10)\n",
    "posvertex = posbc.community_infomap(trials=10)"
   ]
  },
  {
   "cell_type": "code",
   "execution_count": 8,
   "metadata": {},
   "outputs": [],
   "source": [
    "# Plotting the biggest strongly connected components\n",
    "def plotcommunity(graph, name):\n",
    "    visual_style = dict()\n",
    "    layout = graph.layout_fruchterman_reingold()\n",
    "    visual_style[\"layout\"] = layout\n",
    "    visual_style[\"bbox\"] = (5000, 5000)\n",
    "    visual_style[\"margin\"] = 100\n",
    "    #graph.vs['label'] = label_dict[graph.vs['name']]\n",
    "    #visual_style[\"vertex_label\"] = graph.vs['label']\n",
    "    visual_style[\"vertex_label\"] = [label_dict[x] for x in graph.vs[\"name\"]]\n",
    "    out = ig.plot(graph, **visual_style)\n",
    "    out.save(name + 'Undirected.png')"
   ]
  },
  {
   "cell_type": "code",
   "execution_count": 11,
   "metadata": {},
   "outputs": [],
   "source": [
    "# Positive components\n",
    "ss = posvertex.sizes() \n",
    "second = posvertex.subgraph(ss.index(sorted(ss, reverse=True)[1]))\n",
    "third = posvertex.subgraph(ss.index(sorted(ss, reverse=True)[2]))\n",
    "fourth = posvertex.subgraph(ss.index(sorted(ss, reverse=True)[3]))\n",
    "\n",
    "#Plots\n",
    "plotcommunity(posvertex.giant(), \"1st\")\n",
    "plotcommunity(second, \"2nd\")\n",
    "plotcommunity(third, \"3rd\")\n",
    "plotcommunity(fourth, \"4th\")"
   ]
  }
 ],
 "metadata": {
  "kernelspec": {
   "display_name": "Python 3",
   "language": "python",
   "name": "python3"
  },
  "language_info": {
   "codemirror_mode": {
    "name": "ipython",
    "version": 3
   },
   "file_extension": ".py",
   "mimetype": "text/x-python",
   "name": "python",
   "nbconvert_exporter": "python",
   "pygments_lexer": "ipython3",
   "version": "3.7.6"
  }
 },
 "nbformat": 4,
 "nbformat_minor": 4
}
