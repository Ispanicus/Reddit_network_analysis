{
 "cells": [
  {
   "cell_type": "markdown",
   "metadata": {},
   "source": [
    "adamic_adar_index raises error, division by 0 error.\n",
    "\n",
    "Jaccard always gets 0.\n",
    "\n",
    "There is pairs such as ('gaming', 'askreddit'), ('askreddit', 'gaming').\n",
    "\n",
    "There are more functions that can incorporate community information if we want.  "
   ]
  },
  {
   "cell_type": "code",
   "execution_count": null,
   "metadata": {},
   "outputs": [],
   "source": [
    "df_train = pd.read_csv('train.csv')\n",
    "df_test = pd.read_csv('test.csv')\n",
    "G_train = nx.convert_matrix.from_pandas_edgelist(df_train, source=\"SOURCE_SUBREDDIT\", target=\"TARGET_SUBREDDIT\", edge_attr=\"LINK_SENTIMENT\")\n",
    "G_test = nx.convert_matrix.from_pandas_edgelist(df_test, source=\"SOURCE_SUBREDDIT\", target=\"TARGET_SUBREDDIT\", edge_attr=\"LINK_SENTIMENT\")\n",
    "test_set = set(G_test.edges)"
   ]
  },
  {
   "cell_type": "code",
   "execution_count": null,
   "metadata": {},
   "outputs": [],
   "source": [
    "def common_neighbor(G, size):\n",
    "    all_node_pairs = set(itertools.product(G.nodes, repeat = 2))\n",
    "    all_unconnected_node_pairs = all_node_pairs - set(G.edges)\n",
    "    score = {}\n",
    "    for node_pair in all_unconnected_node_pairs:\n",
    "        if node_pair[0] != node_pair[1]:\n",
    "            score[node_pair] = len(set(G.neighbors(node_pair[0])) & set(G.neighbors(node_pair[1])))\n",
    "    sorted_guesses = sorted(score.items(), key = lambda x: x[1], reverse = True)\n",
    "    sorted_best_guesses = sorted_guesses[:size]\n",
    "    return set([guess[0] for guess in sorted_best_guesses])\n",
    "\n",
    "def jaccard(G, size):\n",
    "    all_node_pairs = set(itertools.product(G.nodes, repeat = 2))\n",
    "    all_unconnected_node_pairs = all_node_pairs - set(G.edges)\n",
    "    j = list(nx.jaccard_coefficient(G_train, ebunch=all_unconnected_node_pairs))\n",
    "    score = {}\n",
    "    for node_pair in j:\n",
    "        if node_pair[0] != node_pair[1]:\n",
    "            score[(node_pair[0],node_pair[1])] = node_pair[2]\n",
    "    sorted_guesses = sorted(score.items(), key = lambda x: x[1], reverse = True)\n",
    "    sorted_best_guesses = sorted_guesses[:size]\n",
    "    return set([guess[0] for guess in sorted_best_guesses])\n",
    "\n",
    "def pa(G, size):\n",
    "    all_node_pairs = set(itertools.product(G.nodes, repeat = 2))\n",
    "    all_unconnected_node_pairs = all_node_pairs - set(G.edges)\n",
    "    pa = list(nx.preferential_attachment(G_train, ebunch=all_unconnected_node_pairs))\n",
    "    score = {}\n",
    "    for node_pair in pa:\n",
    "        if node_pair[0] != node_pair[1]:\n",
    "            score[(node_pair[0],node_pair[1])] = node_pair[2]\n",
    "    sorted_guesses = sorted(score.items(), key = lambda x: x[1], reverse = True)\n",
    "    sorted_best_guesses = sorted_guesses[:size]\n",
    "    return set([guess[0] for guess in sorted_best_guesses])\n",
    "\n",
    "def rai(G, size):\n",
    "    all_node_pairs = set(itertools.product(G.nodes, repeat = 2))\n",
    "    all_unconnected_node_pairs = all_node_pairs - set(G.edges)\n",
    "    rai = list(nx.resource_allocation_index(G_train, ebunch=all_unconnected_node_pairs))\n",
    "    score = {}\n",
    "    for node_pair in rai:\n",
    "        if node_pair[0] != node_pair[1]:\n",
    "            score[(node_pair[0],node_pair[1])] = node_pair[2]\n",
    "    sorted_guesses = sorted(score.items(), key = lambda x: x[1], reverse = True)\n",
    "    sorted_best_guesses = sorted_guesses[:size*2:2]\n",
    "    return set([guess[0] for guess in sorted_best_guesses])\n",
    "\n",
    "def aai(G, size):\n",
    "    all_node_pairs = set(itertools.product(G.nodes, repeat = 2))\n",
    "    all_unconnected_node_pairs = all_node_pairs - set(G.edges)\n",
    "    aai = list(nx.adamic_adar_index(G_train, ebunch=all_unconnected_node_pairs))\n",
    "    score = {}\n",
    "    for node_pair in aai:\n",
    "        if node_pair[0] != node_pair[1]:\n",
    "            score[(node_pair[0],node_pair[1])] = node_pair[2]\n",
    "    sorted_guesses = sorted(score.items(), key = lambda x: x[1], reverse = True)\n",
    "    sorted_best_guesses = sorted_guesses[:size]\n",
    "    return set([guess[0] for guess in sorted_best_guesses])\n",
    "\n",
    "def random_guess(G, size):\n",
    "    all_node_pairs = set(itertools.product(G.nodes, repeat = 2))\n",
    "    all_unconnected_node_pairs = all_node_pairs - set(G.edges)\n",
    "    return set(random.sample(all_unconnected_node_pairs, size))"
   ]
  },
  {
   "cell_type": "code",
   "execution_count": null,
   "metadata": {},
   "outputs": [],
   "source": [
    "def score(G, func, size):\n",
    "    guesses = func(G, size)\n",
    "    precision = len(guesses & test_set) / len(guesses)\n",
    "    recall = len(guesses & test_set) / len(test_set)\n",
    "    return (precision, recall)"
   ]
  },
  {
   "cell_type": "code",
   "execution_count": null,
   "metadata": {},
   "outputs": [],
   "source": [
    "funcs = [common_neighbor, jaccard, pa, rai, random_guess]\n",
    "func_labels = ['common neighbor', 'jaccard', 'preferential attachment', 'resource allocation index', 'random guess']\n",
    "for label,func in zip(func_labels, funcs):\n",
    "    print(label, score(G_train, func, 1000))"
   ]
  }
 ],
 "metadata": {
  "kernelspec": {
   "display_name": "Python 3",
   "language": "python",
   "name": "python3"
  },
  "language_info": {
   "codemirror_mode": {
    "name": "ipython",
    "version": 3
   },
   "file_extension": ".py",
   "mimetype": "text/x-python",
   "name": "python",
   "nbconvert_exporter": "python",
   "pygments_lexer": "ipython3",
   "version": "3.6.5"
  }
 },
 "nbformat": 4,
 "nbformat_minor": 2
}
