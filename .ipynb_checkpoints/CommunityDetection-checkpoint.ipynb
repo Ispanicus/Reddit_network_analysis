{
 "cells": [
  {
   "cell_type": "code",
   "execution_count": 17,
   "metadata": {},
   "outputs": [],
   "source": [
    "import community as cd\n",
    "import igraph as ig\n",
    "import networkx as nx\n",
    "import pandas as pd\n",
    "import numpy as np\n",
    "import matplotlib.pyplot as plt\n",
    "import matplotlib\n",
    "matplotlib.rcParams['figure.figsize'] = (15.0, 5.0)\n",
    "matplotlib.rcParams.update({'font.size': 18})\n",
    "import numpy as np\n",
    "from collections import Counter, defaultdict\n",
    "from operator import itemgetter\n",
    "import random\n",
    "import seaborn as sns\n",
    "import powerlaw\n",
    "import itertools\n",
    "plt.style.use('ggplot')\n",
    "import warnings\n",
    "\n",
    "# Ignore two specific warning messages from the powerlaw package. \n",
    "# Comment these lines to show warnings\n",
    "warnings.filterwarnings(\"ignore\", message=\"invalid value encountered in true_divide\")\n",
    "warnings.filterwarnings(\"ignore\", message=\"divide by zero encountered in true_divide\")"
   ]
  },
  {
   "cell_type": "code",
   "execution_count": 18,
   "metadata": {},
   "outputs": [
    {
     "name": "stdout",
     "output_type": "stream",
     "text": [
      "Name: \n",
      "Type: DiGraph\n",
      "Number of nodes: 4863\n",
      "Number of edges: 7463\n",
      "Average in degree:   1.5346\n",
      "Average out degree:   1.5346\n"
     ]
    }
   ],
   "source": [
    "# read network as directed graph from edge list\n",
    "G = pd.read_csv('clean_graph.csv', delimiter=\",\")\n",
    "\n",
    "# Remove big subreddits that are in several communities\n",
    "G = G[G.SOURCE_SUBREDDIT != 'askreddit']\n",
    "G = G[G.SOURCE_SUBREDDIT != 'iama']\n",
    "G = G[G.TARGET_SUBREDDIT != 'askreddit']\n",
    "G = G[G.TARGET_SUBREDDIT != 'iama']\n",
    "\n",
    "# Separate into negative and positive\n",
    "DF_POS = G[G.LINK_SENTIMENT == 1]\n",
    "DF_NEG = G[G.LINK_SENTIMENT == -1]\n",
    "\n",
    "# Load into nx\n",
    "G_POS = nx.convert_matrix.from_pandas_edgelist(DF_POS, source=\"SOURCE_SUBREDDIT\", target=\"TARGET_SUBREDDIT\", edge_attr=\"LINK_SENTIMENT\", create_using=nx.DiGraph)\n",
    "G_NEG = nx.convert_matrix.from_pandas_edgelist(DF_NEG, source=\"SOURCE_SUBREDDIT\", target=\"TARGET_SUBREDDIT\", edge_attr=\"LINK_SENTIMENT\", create_using=nx.DiGraph)\n",
    "\n",
    "\n",
    "# print summary of network\n",
    "print(nx.info(G_NEG))"
   ]
  },
  {
   "cell_type": "code",
   "execution_count": 19,
   "metadata": {},
   "outputs": [],
   "source": [
    "# Replacing strings by integers to load into igraph\n",
    "nodes = set(G.SOURCE_SUBREDDIT.unique()).union(set(G.TARGET_SUBREDDIT.unique()))\n",
    "nodes_dict = dict(zip(nodes, range(len(nodes))))\n",
    "label_dict = dict([(value, key) for key, value in nodes_dict.items()])\n",
    "\n",
    "DF_NEG = DF_NEG.replace(to_replace=nodes_dict)\n",
    "DF_POS = DF_POS.replace(to_replace=nodes_dict)"
   ]
  },
  {
   "cell_type": "code",
   "execution_count": 20,
   "metadata": {},
   "outputs": [],
   "source": [
    "# Loading into igraph\n",
    "igneg = ig.Graph.TupleList(DF_NEG.itertuples(index=False), directed=True, edge_attrs=\"weight\")\n",
    "igpos = ig.Graph.TupleList(DF_POS.itertuples(index=False), directed=True, edge_attrs=\"weight\")\n",
    "# Getting the largest strongly connected component\n",
    "negbc = igneg.components().giant()\n",
    "posbc = igpos.components().giant()\n",
    "'''\n",
    "Doing infomap for community detection.\n",
    "Wanted to use the fast greedy algorithm, which merges individual nodes into communities in a way that greedily maximizes the modularity score of the graph.\n",
    "I thought it would be a really good idea for our realtively large network, but it has no support for directed graphs (story of our lives))\n",
    "'''\n",
    "negvertex = negbc.community_infomap(trials=20)\n",
    "posvertex = posbc.community_infomap(trials=20)"
   ]
  },
  {
   "cell_type": "code",
   "execution_count": 21,
   "metadata": {},
   "outputs": [],
   "source": [
    "# Plotting the biggest strongly connected components\n",
    "def plotcommunity(graph, name):\n",
    "    visual_style = dict()\n",
    "    layout = graph.layout_fruchterman_reingold()\n",
    "    visual_style[\"layout\"] = layout\n",
    "    visual_style[\"bbox\"] = (5000, 5000)\n",
    "    visual_style[\"margin\"] = 100\n",
    "    #graph.vs['label'] = label_dict[graph.vs['name']]\n",
    "    #visual_style[\"vertex_label\"] = graph.vs['label']\n",
    "    visual_style[\"vertex_label\"] = [label_dict[x] for x in graph.vs[\"name\"]]\n",
    "    out = ig.plot(graph, **visual_style)\n",
    "    out.save(name + '.png')"
   ]
  },
  {
   "cell_type": "code",
   "execution_count": 61,
   "metadata": {},
   "outputs": [],
   "source": [
    "posvertex20 = posbc.community_infomap(trials=20)"
   ]
  },
  {
   "cell_type": "code",
   "execution_count": 73,
   "metadata": {},
   "outputs": [],
   "source": [
    "posvertex102 = posbc.community_infomap(trials=10)"
   ]
  },
  {
   "cell_type": "code",
   "execution_count": 45,
   "metadata": {},
   "outputs": [
    {
     "data": {
      "text/plain": [
       "['FromAttribute',\n",
       " '__class__',\n",
       " '__delattr__',\n",
       " '__dict__',\n",
       " '__dir__',\n",
       " '__doc__',\n",
       " '__eq__',\n",
       " '__format__',\n",
       " '__ge__',\n",
       " '__getattribute__',\n",
       " '__getitem__',\n",
       " '__gt__',\n",
       " '__hash__',\n",
       " '__init__',\n",
       " '__init_subclass__',\n",
       " '__iter__',\n",
       " '__le__',\n",
       " '__len__',\n",
       " '__lt__',\n",
       " '__module__',\n",
       " '__ne__',\n",
       " '__new__',\n",
       " '__plot__',\n",
       " '__reduce__',\n",
       " '__reduce_ex__',\n",
       " '__repr__',\n",
       " '__setattr__',\n",
       " '__sizeof__',\n",
       " '__str__',\n",
       " '__subclasshook__',\n",
       " '__weakref__',\n",
       " '_default_palette',\n",
       " '_formatted_cluster_iterator',\n",
       " '_graph',\n",
       " '_len',\n",
       " '_membership',\n",
       " '_modularity',\n",
       " '_modularity_dirty',\n",
       " '_modularity_params',\n",
       " '_recalculate_modularity_safe',\n",
       " 'as_cover',\n",
       " 'cluster_graph',\n",
       " 'codelength',\n",
       " 'compare_to',\n",
       " 'crossing',\n",
       " 'giant',\n",
       " 'graph',\n",
       " 'membership',\n",
       " 'modularity',\n",
       " 'n',\n",
       " 'q',\n",
       " 'recalculate_modularity',\n",
       " 'size',\n",
       " 'size_histogram',\n",
       " 'sizes',\n",
       " 'subgraph',\n",
       " 'subgraphs',\n",
       " 'summary']"
      ]
     },
     "execution_count": 45,
     "metadata": {},
     "output_type": "execute_result"
    }
   ],
   "source": [
    "dir(posvertex)"
   ]
  },
  {
   "cell_type": "code",
   "execution_count": 74,
   "metadata": {},
   "outputs": [
    {
     "data": {
      "text/plain": [
       "0.3668426586794755"
      ]
     },
     "execution_count": 74,
     "metadata": {},
     "output_type": "execute_result"
    }
   ],
   "source": [
    "posvertex102.compare_to(posvertex10)"
   ]
  },
  {
   "cell_type": "code",
   "execution_count": 66,
   "metadata": {},
   "outputs": [
    {
     "data": {
      "text/plain": [
       "0.42873775581217366"
      ]
     },
     "execution_count": 66,
     "metadata": {},
     "output_type": "execute_result"
    }
   ],
   "source": [
    "posvertex20.compare_to(posvertex10)"
   ]
  },
  {
   "cell_type": "code",
   "execution_count": 98,
   "metadata": {},
   "outputs": [
    {
     "data": {
      "text/plain": [
       "['__class__',\n",
       " '__delattr__',\n",
       " '__dict__',\n",
       " '__dir__',\n",
       " '__doc__',\n",
       " '__eq__',\n",
       " '__format__',\n",
       " '__ge__',\n",
       " '__getattribute__',\n",
       " '__gt__',\n",
       " '__hash__',\n",
       " '__init__',\n",
       " '__init_subclass__',\n",
       " '__le__',\n",
       " '__lshift__',\n",
       " '__lt__',\n",
       " '__module__',\n",
       " '__ne__',\n",
       " '__new__',\n",
       " '__plot__',\n",
       " '__reduce__',\n",
       " '__reduce_ex__',\n",
       " '__repr__',\n",
       " '__setattr__',\n",
       " '__sizeof__',\n",
       " '__str__',\n",
       " '__subclasshook__',\n",
       " '__weakref__',\n",
       " '_bin_width',\n",
       " '_bins',\n",
       " '_get_bin',\n",
       " '_max',\n",
       " '_min',\n",
       " '_running_mean',\n",
       " 'add',\n",
       " 'add_many',\n",
       " 'bins',\n",
       " 'clear',\n",
       " 'mean',\n",
       " 'n',\n",
       " 'sd',\n",
       " 'to_string',\n",
       " 'var']"
      ]
     },
     "execution_count": 98,
     "metadata": {},
     "output_type": "execute_result"
    }
   ],
   "source": [
    "dir(posvertex.size_histogram())"
   ]
  },
  {
   "cell_type": "code",
   "execution_count": 107,
   "metadata": {},
   "outputs": [],
   "source": [
    "f = open(\"histogram.txt\", \"w\")\n",
    "for left, right, count in posvertex.size_histogram().bins():\n",
    "    f.write(f\"{left}, {right}, {count} \\n\")\n",
    "f.close()"
   ]
  },
  {
   "cell_type": "code",
   "execution_count": null,
   "metadata": {},
   "outputs": [],
   "source": [
    "def testplot(graph, name):\n",
    "    visual_style = dict()\n",
    "    pal = ig.drawing.colors.ClusterColoringPalette(len(negvertex))\n",
    "    negbc.vs['color'] = pal.get_many(negvertex.membership)\n",
    "    layout = negbc.layout_fruchterman_reingold()\n",
    "    visual_style[\"layout\"] = layout\n",
    "    visual_style[\"bbox\"] = (5000, 5000)\n",
    "    visual_style[\"margin\"] = 100\n",
    "    graph.vs['label'] = graph.vs['name']\n",
    "    out = ig.plot(graph, **visual_style,\n",
    "                       vertex_label = vertex_labels)\n",
    "    out.save(name + '.png')\n",
    "    \n",
    "testplot(negbc, \"negative_component\")"
   ]
  },
  {
   "cell_type": "code",
   "execution_count": 80,
   "metadata": {},
   "outputs": [
    {
     "data": {
      "text/plain": [
       "<igraph.clustering.VertexClustering at 0x7f6acf097bd0>"
      ]
     },
     "execution_count": 80,
     "metadata": {},
     "output_type": "execute_result"
    }
   ],
   "source": [
    "posvertex"
   ]
  },
  {
   "cell_type": "code",
   "execution_count": 25,
   "metadata": {},
   "outputs": [],
   "source": [
    "# Positive components\n",
    "ss = posvertex.sizes() \n",
    "second = posvertex.subgraph(ss.index(sorted(ss, reverse=True)[1]))\n",
    "third = posvertex.subgraph(ss.index(sorted(ss, reverse=True)[2]))\n",
    "fourth = posvertex.subgraph(ss.index(sorted(ss, reverse=True)[3]))"
   ]
  },
  {
   "cell_type": "code",
   "execution_count": 34,
   "metadata": {},
   "outputs": [
    {
     "data": {
      "text/plain": [
       "888"
      ]
     },
     "execution_count": 34,
     "metadata": {},
     "output_type": "execute_result"
    }
   ],
   "source": [
    "len([x for x in third.es])"
   ]
  },
  {
   "cell_type": "code",
   "execution_count": 26,
   "metadata": {},
   "outputs": [],
   "source": [
    "#Plots\n",
    "plotcommunity(posvertex.giant(), \"test1st\")\n",
    "plotcommunity(second, \"test2nd\")\n",
    "plotcommunity(third, \"test3rd\")\n",
    "plotcommunity(fourth, \"test4th\")"
   ]
  },
  {
   "cell_type": "code",
   "execution_count": 9,
   "metadata": {},
   "outputs": [],
   "source": [
    "#Negative components\n",
    "ss = negvertex.sizes() \n",
    "second = negvertex.subgraph(ss.index(sorted(ss, reverse=True)[1]))\n",
    "third = negvertex.subgraph(ss.index(sorted(ss, reverse=True)[2]))\n",
    "fourth = negvertex.subgraph(ss.index(sorted(ss, reverse=True)[3]))"
   ]
  },
  {
   "cell_type": "code",
   "execution_count": 10,
   "metadata": {},
   "outputs": [],
   "source": [
    "plotcommunity(negvertex.giant(), \"N1st\")\n",
    "plotcommunity(second, \"N2nd\")\n",
    "plotcommunity(third, \"N3rd\")\n",
    "plotcommunity(fourth, \"N4th\")"
   ]
  },
  {
   "cell_type": "code",
   "execution_count": 128,
   "metadata": {},
   "outputs": [],
   "source": [
    "# Probably not useful\n",
    "neg_labels = [label_dict[x] for x in [n for n in negbc.vs['name']]]\n",
    "pos_labels = [label_dict[x] for x in [n for n in posbc.vs['name']]]"
   ]
  },
  {
   "cell_type": "code",
   "execution_count": 24,
   "metadata": {},
   "outputs": [],
   "source": [
    "# Maybe use later\n",
    "'''\n",
    "# Gave labels and names to the nodes so we could maybe visualize something in Gephi\n",
    "vm = negvertex.membership\n",
    "for i in range(len(negbc.vs)):\n",
    "    negbc.vs[i][\"label\"] = new_dict[negbc.vs[i][\"name\"]]\n",
    "    negbc.vs[i][\"name\"] = vm[i]\n",
    "'''\n"
   ]
  },
  {
   "cell_type": "code",
   "execution_count": 25,
   "metadata": {},
   "outputs": [],
   "source": [
    "# Output for Gephi - Maybe use later\n",
    "'''\n",
    "f = \"bigcomponent.graphml\"\n",
    "negbc.write(f, format=\"graphml\")\n",
    "'''"
   ]
  },
  {
   "cell_type": "code",
   "execution_count": 28,
   "metadata": {},
   "outputs": [],
   "source": [
    "# Tried getting the 20 biggest communities in the biggest connected component. Didn't work... Igraph continues to elude me\n",
    "'''\n",
    "def func(g):\n",
    "    return g.__sizeof__()\n",
    "\n",
    "new_vertex = sorted(negvertex.subgraphs(), key=func, reverse=True)[:20]\n",
    "'''"
   ]
  },
  {
   "cell_type": "code",
   "execution_count": 29,
   "metadata": {},
   "outputs": [],
   "source": [
    "# Tried doing colors for only the top 20 communities... Igraph has bested me again\n",
    "'''\n",
    "colorset = set()\n",
    "for v in new_vertex:\n",
    "    for a in v.vs:\n",
    "        colorset.add(a.attributes()[\"label\"])\n",
    "#vertex.subgraphs()[0].vs[0].attributes()[\"label\"]\n",
    "\n",
    "vm = negvertex.membership\n",
    "for i in range(len(vm)):\n",
    "    if i not in colorset:\n",
    "        vm[i] = 500\n",
    "'''"
   ]
  },
  {
   "cell_type": "code",
   "execution_count": 34,
   "metadata": {},
   "outputs": [],
   "source": [
    "# Plotting the biggest strongly connected negative component\n",
    "def testplot(graph, name):\n",
    "    visual_style = dict()\n",
    "    pal = ig.drawing.colors.ClusterColoringPalette(len(negvertex))\n",
    "    negbc.vs['color'] = pal.get_many(negvertex.membership)\n",
    "    layout = negbc.layout_fruchterman_reingold()\n",
    "    visual_style[\"layout\"] = layout\n",
    "    visual_style[\"bbox\"] = (5000, 5000)\n",
    "    visual_style[\"margin\"] = 100\n",
    "    graph.vs['label'] = graph.vs['name']\n",
    "    out = ig.plot(graph, **visual_style,\n",
    "                       vertex_label = vertex_labels)\n",
    "    out.save(name + '.png')\n",
    "    \n",
    "testplot(negbc, \"negative_component\")"
   ]
  },
  {
   "cell_type": "code",
   "execution_count": 52,
   "metadata": {},
   "outputs": [],
   "source": [
    "# Plotting the biggest strongly connected positive component\n",
    "def testplot(graph, name):\n",
    "    visual_style = dict()\n",
    "    pal = ig.drawing.colors.ClusterColoringPalette(len(posvertex))\n",
    "    posbc.vs['color'] = pal.get_many(posvertex.membership)\n",
    "    layout = posbc.layout_fruchterman_reingold()\n",
    "    visual_style[\"layout\"] = layout\n",
    "    visual_style[\"bbox\"] = (5000, 5000)\n",
    "    visual_style[\"margin\"] = 100\n",
    "    graph.vs['label'] = graph.vs['name']\n",
    "    out = ig.plot(graph, **visual_style,\n",
    "                       vertex_label = vertex_labels)\n",
    "    out.save(name + '.png')\n",
    "    \n",
    "testplot(posbc, \"positive_component\")"
   ]
  },
  {
   "cell_type": "code",
   "execution_count": 62,
   "metadata": {},
   "outputs": [],
   "source": []
  },
  {
   "cell_type": "code",
   "execution_count": 33,
   "metadata": {},
   "outputs": [
    {
     "ename": "AttributeError",
     "evalue": "'dict' object has no attribute 'most_common'",
     "output_type": "error",
     "traceback": [
      "\u001b[0;31m---------------------------------------------------------------------------\u001b[0m",
      "\u001b[0;31mAttributeError\u001b[0m                            Traceback (most recent call last)",
      "\u001b[0;32m<ipython-input-33-1bcc1651e00b>\u001b[0m in \u001b[0;36m<module>\u001b[0;34m\u001b[0m\n\u001b[1;32m      1\u001b[0m \u001b[0;31m# Setting community number to 200 if community not in the top 20 biggest to try to visualize the largest communities\u001b[0m\u001b[0;34m\u001b[0m\u001b[0;34m\u001b[0m\u001b[0;34m\u001b[0m\u001b[0m\n\u001b[0;32m----> 2\u001b[0;31m \u001b[0mmost\u001b[0m \u001b[0;34m=\u001b[0m \u001b[0mset\u001b[0m\u001b[0;34m(\u001b[0m\u001b[0;34m[\u001b[0m\u001b[0mx\u001b[0m \u001b[0;32mfor\u001b[0m \u001b[0mx\u001b[0m\u001b[0;34m,\u001b[0m\u001b[0my\u001b[0m \u001b[0;32min\u001b[0m \u001b[0mdic\u001b[0m\u001b[0;34m.\u001b[0m\u001b[0mmost_common\u001b[0m\u001b[0;34m(\u001b[0m\u001b[0;36m20\u001b[0m\u001b[0;34m)\u001b[0m\u001b[0;34m]\u001b[0m\u001b[0;34m)\u001b[0m\u001b[0;34m\u001b[0m\u001b[0;34m\u001b[0m\u001b[0m\n\u001b[0m\u001b[1;32m      3\u001b[0m \u001b[0mv\u001b[0m \u001b[0;34m=\u001b[0m \u001b[0mnegvertex\u001b[0m\u001b[0;34m.\u001b[0m\u001b[0mmembership\u001b[0m\u001b[0;34m\u001b[0m\u001b[0;34m\u001b[0m\u001b[0m\n\u001b[1;32m      4\u001b[0m \u001b[0;32mfor\u001b[0m \u001b[0mi\u001b[0m \u001b[0;32min\u001b[0m \u001b[0mrange\u001b[0m\u001b[0;34m(\u001b[0m\u001b[0mlen\u001b[0m\u001b[0;34m(\u001b[0m\u001b[0mv\u001b[0m\u001b[0;34m)\u001b[0m\u001b[0;34m)\u001b[0m\u001b[0;34m:\u001b[0m\u001b[0;34m\u001b[0m\u001b[0;34m\u001b[0m\u001b[0m\n\u001b[1;32m      5\u001b[0m     \u001b[0;32mif\u001b[0m \u001b[0mv\u001b[0m\u001b[0;34m[\u001b[0m\u001b[0mi\u001b[0m\u001b[0;34m]\u001b[0m \u001b[0;32mnot\u001b[0m \u001b[0;32min\u001b[0m \u001b[0mmost\u001b[0m\u001b[0;34m:\u001b[0m\u001b[0;34m\u001b[0m\u001b[0;34m\u001b[0m\u001b[0m\n",
      "\u001b[0;31mAttributeError\u001b[0m: 'dict' object has no attribute 'most_common'"
     ]
    }
   ],
   "source": [
    "# Setting community number to 200 if community not in the top 20 biggest to try to visualize the largest communities\n",
    "most = set([x for x,y in dic.most_common(20)])\n",
    "v = negvertex.membership\n",
    "for i in range(len(v)):\n",
    "    if v[i] not in most:\n",
    "        v[i] = 200"
   ]
  }
 ],
 "metadata": {
  "kernelspec": {
   "display_name": "Python 3",
   "language": "python",
   "name": "python3"
  },
  "language_info": {
   "codemirror_mode": {
    "name": "ipython",
    "version": 3
   },
   "file_extension": ".py",
   "mimetype": "text/x-python",
   "name": "python",
   "nbconvert_exporter": "python",
   "pygments_lexer": "ipython3",
   "version": "3.7.6"
  }
 },
 "nbformat": 4,
 "nbformat_minor": 4
}
