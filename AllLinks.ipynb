{
 "cells": [
  {
   "cell_type": "code",
   "execution_count": 8,
   "metadata": {},
   "outputs": [],
   "source": [
    "import community as cd\n",
    "import igraph as ig\n",
    "import networkx as nx\n",
    "import pandas as pd\n",
    "import numpy as np\n",
    "import matplotlib.pyplot as plt\n",
    "import matplotlib\n",
    "matplotlib.rcParams['figure.figsize'] = (15.0, 5.0)\n",
    "matplotlib.rcParams.update({'font.size': 18})\n",
    "import numpy as np\n",
    "from collections import Counter, defaultdict\n",
    "from operator import itemgetter\n",
    "import random\n",
    "import seaborn as sns\n",
    "import powerlaw\n",
    "import itertools\n",
    "plt.style.use('ggplot')\n",
    "import warnings\n",
    "\n",
    "# Ignore two specific warning messages from the powerlaw package. \n",
    "# Comment these lines to show warnings\n",
    "warnings.filterwarnings(\"ignore\", message=\"invalid value encountered in true_divide\")\n",
    "warnings.filterwarnings(\"ignore\", message=\"divide by zero encountered in true_divide\")"
   ]
  },
  {
   "cell_type": "code",
   "execution_count": 9,
   "metadata": {},
   "outputs": [
    {
     "name": "stdout",
     "output_type": "stream",
     "text": [
      "Name: \n",
      "Type: DiGraph\n",
      "Number of nodes: 35215\n",
      "Number of edges: 131250\n",
      "Average in degree:   3.7271\n",
      "Average out degree:   3.7271\n"
     ]
    }
   ],
   "source": [
    "# read network as directed graph from edge list\n",
    "DF = pd.read_csv('clean_graph.csv', delimiter=\",\")\n",
    "\n",
    "# Remove big subreddits that are in several communities\n",
    "DF = DF[DF.SOURCE_SUBREDDIT != 'askreddit']\n",
    "DF = DF[DF.SOURCE_SUBREDDIT != 'iama']\n",
    "DF = DF[DF.TARGET_SUBREDDIT != 'askreddit']\n",
    "DF = DF[DF.TARGET_SUBREDDIT != 'iama']\n",
    "\n",
    "\n",
    "\n",
    "# Load into nx\n",
    "G = nx.convert_matrix.from_pandas_edgelist(DF, source=\"SOURCE_SUBREDDIT\", target=\"TARGET_SUBREDDIT\", edge_attr=\"LINK_SENTIMENT\", create_using=nx.DiGraph)\n",
    "\n",
    "# print summary of network\n",
    "print(nx.info(G))"
   ]
  },
  {
   "cell_type": "code",
   "execution_count": 10,
   "metadata": {},
   "outputs": [],
   "source": [
    "# Replacing strings by integers to load into igraph\n",
    "nodes = set(DF.SOURCE_SUBREDDIT.unique()).union(set(DF.TARGET_SUBREDDIT.unique()))\n",
    "nodes_dict = dict(zip(nodes, range(len(nodes))))\n",
    "label_dict = dict([(value, key) for key, value in nodes_dict.items()])"
   ]
  },
  {
   "cell_type": "code",
   "execution_count": 11,
   "metadata": {},
   "outputs": [],
   "source": [
    "DF_NUMS = DF.iloc[:60000,:].replace(to_replace=nodes_dict)"
   ]
  },
  {
   "cell_type": "code",
   "execution_count": 12,
   "metadata": {},
   "outputs": [],
   "source": [
    "DF_NUMS2 = DF.iloc[60000:,:].replace(to_replace=nodes_dict)"
   ]
  },
  {
   "cell_type": "code",
   "execution_count": 13,
   "metadata": {},
   "outputs": [],
   "source": [
    "DF_ALL = DF_NUMS.append(DF_NUMS2)"
   ]
  },
  {
   "cell_type": "code",
   "execution_count": 15,
   "metadata": {},
   "outputs": [],
   "source": [
    "# Loading into igraph\n",
    "igall = ig.Graph.TupleList(DF_ALL.itertuples(index=False), directed=True, edge_attrs=\"weight\")\n",
    "# Getting the largest strongly connected component\n",
    "bc = igall.components().giant()\n",
    "'''\n",
    "Doing infomap for community detection.\n",
    "Wanted to use the fast greedy algorithm, which merges individual nodes into communities in a way that greedily maximizes the modularity score of the graph.\n",
    "I thought it would be a really good idea for our realtively large network, but it has no support for directed graphs (story of our lives))\n",
    "'''\n",
    "allvertex = bc.community_infomap(trials=10)"
   ]
  },
  {
   "cell_type": "code",
   "execution_count": 16,
   "metadata": {},
   "outputs": [],
   "source": [
    "# Plotting the biggest strongly connected components\n",
    "def plotcommunity(graph, name):\n",
    "    visual_style = dict()\n",
    "    layout = graph.layout_fruchterman_reingold()\n",
    "    visual_style[\"layout\"] = layout\n",
    "    visual_style[\"bbox\"] = (5000, 5000)\n",
    "    visual_style[\"margin\"] = 100\n",
    "    #graph.vs['label'] = label_dict[graph.vs['name']]\n",
    "    #visual_style[\"vertex_label\"] = graph.vs['label']\n",
    "    visual_style[\"vertex_label\"] = [label_dict[x] for x in graph.vs[\"name\"]]\n",
    "    out = ig.plot(graph, **visual_style)\n",
    "    out.save(name + '.png')"
   ]
  },
  {
   "cell_type": "code",
   "execution_count": 17,
   "metadata": {},
   "outputs": [],
   "source": [
    "# Positive components\n",
    "ss = allvertex.sizes() \n",
    "second = allvertex.subgraph(ss.index(sorted(ss, reverse=True)[1]))\n",
    "third = allvertex.subgraph(ss.index(sorted(ss, reverse=True)[2]))\n",
    "fourth = allvertex.subgraph(ss.index(sorted(ss, reverse=True)[3]))"
   ]
  },
  {
   "cell_type": "code",
   "execution_count": 19,
   "metadata": {},
   "outputs": [],
   "source": [
    "fifth = allvertex.subgraph(ss.index(sorted(ss, reverse=True)[4]))\n",
    "sixth = allvertex.subgraph(ss.index(sorted(ss, reverse=True)[5]))\n",
    "plotcommunity(fifth, \"A5th\")\n",
    "plotcommunity(sixth, \"A6th\")"
   ]
  },
  {
   "cell_type": "code",
   "execution_count": 18,
   "metadata": {},
   "outputs": [],
   "source": [
    "#Plots\n",
    "plotcommunity(allvertex.giant(), \"A1st\")\n",
    "plotcommunity(second, \"A2nd\")\n",
    "plotcommunity(third, \"A3rd\")\n",
    "plotcommunity(fourth, \"A4th\")"
   ]
  }
 ],
 "metadata": {
  "kernelspec": {
   "display_name": "Python 3",
   "language": "python",
   "name": "python3"
  },
  "language_info": {
   "codemirror_mode": {
    "name": "ipython",
    "version": 3
   },
   "file_extension": ".py",
   "mimetype": "text/x-python",
   "name": "python",
   "nbconvert_exporter": "python",
   "pygments_lexer": "ipython3",
   "version": "3.7.6"
  }
 },
 "nbformat": 4,
 "nbformat_minor": 4
}
