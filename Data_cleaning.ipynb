{
 "cells": [
  {
   "cell_type": "code",
   "execution_count": 38,
   "metadata": {},
   "outputs": [],
   "source": [
    "import pandas as pd\n",
    "\n",
    "G_reddit = pd.read_csv('reddit.tsv', delimiter=\"\\t\")"
   ]
  },
  {
   "cell_type": "code",
   "execution_count": 47,
   "metadata": {},
   "outputs": [
    {
     "data": {
      "text/plain": [
       "63344"
      ]
     },
     "execution_count": 47,
     "metadata": {},
     "output_type": "execute_result"
    }
   ],
   "source": [
    "G_2014 = G_reddit[G_reddit[\"TIMESTAMP\"].str.slice(0,4) == '2014']"
   ]
  },
  {
   "cell_type": "code",
   "execution_count": 40,
   "metadata": {},
   "outputs": [],
   "source": [
    "temp = G_reddit.drop(labels=[\"POST_ID\",\"TIMESTAMP\",\"PROPERTIES\"], axis=1)\n",
    "temp2014 = G_2014.drop(labels=[\"POST_ID\",\"TIMESTAMP\",\"PROPERTIES\"], axis=1)"
   ]
  },
  {
   "cell_type": "code",
   "execution_count": 41,
   "metadata": {},
   "outputs": [],
   "source": [
    "new = temp.groupby(by=[\"SOURCE_SUBREDDIT\",\"TARGET_SUBREDDIT\"]).sum()\n",
    "new.to_csv(\"dataframe.csv\")\n",
    "new2014 = temp2014.groupby(by=[\"SOURCE_SUBREDDIT\",\"TARGET_SUBREDDIT\"]).sum()\n",
    "new2014.to_csv(\"dataframe2014.csv\")"
   ]
  },
  {
   "cell_type": "code",
   "execution_count": 42,
   "metadata": {},
   "outputs": [],
   "source": [
    "df = pd.read_csv('dataframe.csv')\n",
    "df2014 = pd.read_csv('dataframe2014.csv')"
   ]
  },
  {
   "cell_type": "code",
   "execution_count": 43,
   "metadata": {},
   "outputs": [],
   "source": [
    "df = df[df.LINK_SENTIMENT != 0]\n",
    "df2014 = df2014[df2014.LINK_SENTIMENT != 0]"
   ]
  },
  {
   "cell_type": "code",
   "execution_count": 44,
   "metadata": {},
   "outputs": [],
   "source": [
    "df.loc[df.LINK_SENTIMENT > 0, 'LINK_SENTIMENT'] = 1\n",
    "df.loc[df.LINK_SENTIMENT < 0, 'LINK_SENTIMENT'] = -1\n",
    "\n",
    "df2014.loc[df2014.LINK_SENTIMENT > 0, 'LINK_SENTIMENT'] = 1\n",
    "df2014.loc[df2014.LINK_SENTIMENT < 0, 'LINK_SENTIMENT'] = -1"
   ]
  },
  {
   "cell_type": "code",
   "execution_count": 45,
   "metadata": {},
   "outputs": [],
   "source": [
    "df.to_csv(\"clean_graph.csv\")\n",
    "df2014.to_csv(\"2014.csv\")"
   ]
  }
 ],
 "metadata": {
  "kernelspec": {
   "display_name": "Python 3",
   "language": "python",
   "name": "python3"
  },
  "language_info": {
   "codemirror_mode": {
    "name": "ipython",
    "version": 3
   },
   "file_extension": ".py",
   "mimetype": "text/x-python",
   "name": "python",
   "nbconvert_exporter": "python",
   "pygments_lexer": "ipython3",
   "version": "3.7.6"
  }
 },
 "nbformat": 4,
 "nbformat_minor": 4
}
